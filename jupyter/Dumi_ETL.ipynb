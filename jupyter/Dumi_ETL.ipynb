{
  "nbformat": 4,
  "nbformat_minor": 0,
  "metadata": {
    "colab": {
      "name": "Dumi ETL.ipynb",
      "provenance": [],
      "collapsed_sections": []
    },
    "kernelspec": {
      "name": "python3",
      "display_name": "Python 3"
    }
  },
  "cells": [
    {
      "cell_type": "code",
      "metadata": {
        "id": "8DfEc4uzEx3Q",
        "colab_type": "code",
        "colab": {}
      },
      "source": [
        "%matplotlib inline\n",
        "import re\n",
        "import enum\n",
        "import matplotlib\n",
        "import numpy as np\n",
        "import matplotlib.pyplot as plt\n",
        "import pandas as pd\n",
        "from sklearn.model_selection import train_test_split\n",
        "from sklearn.feature_extraction.text import TfidfVectorizer\n",
        "from sklearn.naive_bayes import MultinomialNB\n",
        "from sklearn.metrics import accuracy_score\n",
        "from sklearn.multiclass import OneVsRestClassifier\n",
        "from sklearn.svm import LinearSVC\n",
        "from sklearn.linear_model import LogisticRegression\n",
        "from sklearn.pipeline import Pipeline\n",
        "import seaborn as sns\n",
        "import json\n",
        "from pprint import pprint\n",
        "import csv\n",
        "from ast import literal_eval\n"
      ],
      "execution_count": 0,
      "outputs": []
    },
    {
      "cell_type": "code",
      "metadata": {
        "id": "g6f0z9yv5BHI",
        "colab_type": "code",
        "outputId": "72f267fc-10dc-4ab3-f7d1-65813e16f6cd",
        "colab": {
          "base_uri": "https://localhost:8080/",
          "height": 130
        }
      },
      "source": [
        "from google.colab import drive\n",
        "drive.mount('/content/drive')"
      ],
      "execution_count": 0,
      "outputs": [
        {
          "output_type": "stream",
          "text": [
            "Go to this URL in a browser: https://accounts.google.com/o/oauth2/auth?client_id=947318989803-6bn6qk8qdgf4n4g3pfee6491hc0brc4i.apps.googleusercontent.com&redirect_uri=urn%3Aietf%3Awg%3Aoauth%3A2.0%3Aoob&scope=email%20https%3A%2F%2Fwww.googleapis.com%2Fauth%2Fdocs.test%20https%3A%2F%2Fwww.googleapis.com%2Fauth%2Fdrive%20https%3A%2F%2Fwww.googleapis.com%2Fauth%2Fdrive.photos.readonly%20https%3A%2F%2Fwww.googleapis.com%2Fauth%2Fpeopleapi.readonly&response_type=code\n",
            "\n",
            "Enter your authorization code:\n",
            "··········\n",
            "Mounted at /content/drive\n"
          ],
          "name": "stdout"
        }
      ]
    },
    {
      "cell_type": "markdown",
      "metadata": {
        "id": "aM8ry9A2KR_o",
        "colab_type": "text"
      },
      "source": [
        "Parse classify bot json export to python array"
      ]
    },
    {
      "cell_type": "code",
      "metadata": {
        "id": "rOfZrDhmJ9lN",
        "colab_type": "code",
        "colab": {}
      },
      "source": [
        "classify_list = []\n",
        "for line in open('/content/drive/My Drive/Colab Notebooks/classify_export.json', 'r'):\n",
        "    classify_list.append(json.loads(line))\n",
        "      \n",
        "# pprint(classify_list)"
      ],
      "execution_count": 0,
      "outputs": []
    },
    {
      "cell_type": "markdown",
      "metadata": {
        "id": "VjCJW0l1K2sB",
        "colab_type": "text"
      },
      "source": [
        "Parse rekognition bot json export to python array"
      ]
    },
    {
      "cell_type": "code",
      "metadata": {
        "id": "dXmUlS_yKZj4",
        "colab_type": "code",
        "colab": {}
      },
      "source": [
        "rekognition_list = []\n",
        "for line in open('/content/drive/My Drive/Colab Notebooks/rekognition_export.json', 'r'):\n",
        "    rekognition_list.append(json.loads(line))\n",
        "    \n",
        "# pprint(rekognition_list)"
      ],
      "execution_count": 0,
      "outputs": []
    },
    {
      "cell_type": "code",
      "metadata": {
        "id": "3G25_4rZ2HNu",
        "colab_type": "code",
        "colab": {}
      },
      "source": [
        "class Crimes(enum.Flag):\n",
        "    NoCrime =             0b0000000001\n",
        "    Assault =             0b0000000010\n",
        "    Theft =             0b0000000100\n",
        "    Gun =                 0b0000001000\n",
        "    Drugs =             0b0000010000\n",
        "    PropertyDamage =     0b0000100000\n",
        "    Homicide =             0b0001000000\n",
        "    Vehicular =            0b0010000000\n",
        "    SexOffence =        0b0100000000\n",
        "    Hostage =            0b1000000000\n",
        "\n",
        "def getCrime(x):\n",
        "    return [crime.name for crime in Crimes.__members__.values() if x & crime.value]\n",
        "  \n",
        "# print(getCrime(66))"
      ],
      "execution_count": 0,
      "outputs": []
    },
    {
      "cell_type": "markdown",
      "metadata": {
        "id": "HijlFJ5GR5xm",
        "colab_type": "text"
      },
      "source": [
        "Get the classification tags from the classfiy bot export and append it"
      ]
    },
    {
      "cell_type": "code",
      "metadata": {
        "id": "O1zHhqyOK87e",
        "colab_type": "code",
        "colab": {}
      },
      "source": [
        "merged_list = []\n",
        "for image in rekognition_list:\n",
        "  # check if it exists\n",
        "  if any(d['id'] == image[\"image_id\"] for d in classify_list):\n",
        "    image_with_tags = {}\n",
        "    image_with_tags = image\n",
        "#     pprint(next(item for item in classify_list if item[\"id\"] == image[\"image_id\"]))\n",
        "#     image_with_tags[\"tags\"] = next(item for item in classify_list if item[\"id\"] == image[\"image_id\"])[\"tags\"]\n",
        "    image_with_tags[\"tags\"] = getCrime(next(item for item in classify_list if item[\"id\"] == image[\"image_id\"])[\"tags\"])\n",
        "    merged_list.append(image_with_tags)"
      ],
      "execution_count": 0,
      "outputs": []
    },
    {
      "cell_type": "code",
      "metadata": {
        "id": "QkRJ7BI5Tdqk",
        "colab_type": "code",
        "outputId": "1d2c7f0e-8410-4fe1-b419-ef349e789bf7",
        "colab": {
          "base_uri": "https://localhost:8080/",
          "height": 537
        }
      },
      "source": [
        "for i in range(100,101):\n",
        "  pprint(merged_list[i])"
      ],
      "execution_count": 0,
      "outputs": [
        {
          "output_type": "stream",
          "text": [
            "{'_id': {'$oid': '5d622a1b10e96f309651ed65'},\n",
            " 'image_id': 'e5d32847cb2e37a210319c197a8813fb2c127965f38018375250e84bed3e14bd.jpg',\n",
            " 'lables_with_confidence': {'Apparel': 99.76117706298828,\n",
            "                            'Boy': 57.48557662963867,\n",
            "                            'Child': 76.3079833984375,\n",
            "                            'Clothing': 99.76117706298828,\n",
            "                            'Couch': 98.0612564086914,\n",
            "                            'Cushion': 97.35753631591797,\n",
            "                            'Face': 99.71694946289062,\n",
            "                            'Female': 84.374267578125,\n",
            "                            'Furniture': 98.0612564086914,\n",
            "                            'Girl': 75.58572387695312,\n",
            "                            'Home Decor': 58.619346618652344,\n",
            "                            'Human': 99.71694946289062,\n",
            "                            'Indoors': 58.51927185058594,\n",
            "                            'Kid': 76.3079833984375,\n",
            "                            'Pants': 82.31653594970703,\n",
            "                            'People': 64.52919006347656,\n",
            "                            'Person': 99.71694946289062,\n",
            "                            'Photo': 64.73422241210938,\n",
            "                            'Photography': 64.73422241210938,\n",
            "                            'Pillow': 94.1452407836914,\n",
            "                            'Portrait': 64.73422241210938,\n",
            "                            'Shirt': 85.4565658569336,\n",
            "                            'Smile': 99.71694946289062,\n",
            "                            'Teen': 78.60831451416016,\n",
            "                            'Woman': 57.02500915527344},\n",
            " 'tags': ['NoCrime']}\n"
          ],
          "name": "stdout"
        }
      ]
    },
    {
      "cell_type": "code",
      "metadata": {
        "id": "0ecWwnrWSK9u",
        "colab_type": "code",
        "outputId": "74c816ac-3723-4fde-bd9e-835c03d6c197",
        "colab": {
          "base_uri": "https://localhost:8080/",
          "height": 203
        }
      },
      "source": [
        "cleaned = []\n",
        "for image in merged_list:\n",
        "  r = {}\n",
        "  r[\"id\"] = image[\"image_id\"]\n",
        "  r[\"tags\"] = image[\"tags\"]\n",
        "  tag_list = [*image[\"lables_with_confidence\"]]\n",
        "  r[\"object_labels\"] = ','.join(tag_list)\n",
        "  \n",
        "  cleaned.append(r)\n",
        "print(cleaned)"
      ],
      "execution_count": 0,
      "outputs": [
        {
          "output_type": "stream",
          "text": [
            "IOPub data rate exceeded.\n",
            "The notebook server will temporarily stop sending output\n",
            "to the client in order to avoid crashing it.\n",
            "To change this limit, set the config variable\n",
            "`--NotebookApp.iopub_data_rate_limit`.\n",
            "\n",
            "Current values:\n",
            "NotebookApp.iopub_data_rate_limit=1000000.0 (bytes/sec)\n",
            "NotebookApp.rate_limit_window=3.0 (secs)\n",
            "\n"
          ],
          "name": "stderr"
        }
      ]
    },
    {
      "cell_type": "code",
      "metadata": {
        "id": "A0l9kTHCKqlh",
        "colab_type": "code",
        "outputId": "6715ec38-c1fa-45c9-d5f5-aca5a8af4836",
        "colab": {
          "base_uri": "https://localhost:8080/",
          "height": 73
        }
      },
      "source": [
        "for i in range(1):\n",
        "  pprint(cleaned[i])"
      ],
      "execution_count": 0,
      "outputs": [
        {
          "output_type": "stream",
          "text": [
            "{'id': 'ef560ef5493aa2e2a9d5dbfc363da0fc820be04c2d7166bc5842ae99958ec7e6.jpg',\n",
            " 'object_labels': 'Medical Imaging X-Ray Film,Ct Scan,X-Ray',\n",
            " 'tags': ['NoCrime']}\n"
          ],
          "name": "stdout"
        }
      ]
    },
    {
      "cell_type": "markdown",
      "metadata": {
        "id": "8AQZbCo0XEje",
        "colab_type": "text"
      },
      "source": [
        "Write the list to a CSV file"
      ]
    },
    {
      "cell_type": "code",
      "metadata": {
        "id": "jTwpUzzPUF9B",
        "colab_type": "code",
        "colab": {}
      },
      "source": [
        "cleaned_keys = cleaned[0].keys()\n",
        "# print(cleaned_keys)\n",
        "with open('/content/drive/My Drive/Colab Notebooks/cleaned.csv', 'w') as output_file:\n",
        "    dict_writer = csv.DictWriter(output_file, cleaned_keys)\n",
        "    dict_writer.writeheader()\n",
        "    dict_writer.writerows(cleaned)"
      ],
      "execution_count": 0,
      "outputs": []
    },
    {
      "cell_type": "code",
      "metadata": {
        "id": "vwvLNdWLXC2X",
        "colab_type": "code",
        "outputId": "f68202c7-402c-4dc5-d4d2-5611b97fd07a",
        "colab": {
          "base_uri": "https://localhost:8080/",
          "height": 206
        }
      },
      "source": [
        "df = pd.read_csv('/content/drive/My Drive/Colab Notebooks/cleaned.csv')\n",
        "df.tags = df.tags.apply(literal_eval)\n",
        "\n",
        "df.head()"
      ],
      "execution_count": 0,
      "outputs": [
        {
          "output_type": "execute_result",
          "data": {
            "text/html": [
              "<div>\n",
              "<style scoped>\n",
              "    .dataframe tbody tr th:only-of-type {\n",
              "        vertical-align: middle;\n",
              "    }\n",
              "\n",
              "    .dataframe tbody tr th {\n",
              "        vertical-align: top;\n",
              "    }\n",
              "\n",
              "    .dataframe thead th {\n",
              "        text-align: right;\n",
              "    }\n",
              "</style>\n",
              "<table border=\"1\" class=\"dataframe\">\n",
              "  <thead>\n",
              "    <tr style=\"text-align: right;\">\n",
              "      <th></th>\n",
              "      <th>id</th>\n",
              "      <th>tags</th>\n",
              "      <th>object_labels</th>\n",
              "    </tr>\n",
              "  </thead>\n",
              "  <tbody>\n",
              "    <tr>\n",
              "      <th>0</th>\n",
              "      <td>f42884d282acb522a396c2402764196e29e1e903235b64...</td>\n",
              "      <td>[NoCrime]</td>\n",
              "      <td>Person,Human,Face,Hair,Clothing,Apparel,Female...</td>\n",
              "    </tr>\n",
              "    <tr>\n",
              "      <th>1</th>\n",
              "      <td>e13857bad42bc7136d46d31eee7b203deae19c7dc51f09...</td>\n",
              "      <td>[NoCrime]</td>\n",
              "      <td>Bow,Human,Person,Cello,Musical Instrument,Art,...</td>\n",
              "    </tr>\n",
              "    <tr>\n",
              "      <th>2</th>\n",
              "      <td>fb7ae430fbe7595a6631ba1a4ab44c3031cc4ef9385d54...</td>\n",
              "      <td>[NoCrime]</td>\n",
              "      <td>Furniture,Pet,Cat,Animal,Mammal,Couch,Blanket,...</td>\n",
              "    </tr>\n",
              "    <tr>\n",
              "      <th>3</th>\n",
              "      <td>d852496f5363579213ba597a273bc94e6f33870d7c3807...</td>\n",
              "      <td>[NoCrime]</td>\n",
              "      <td>Human,Person,Face,Costume,Apparel,Clothing,Fem...</td>\n",
              "    </tr>\n",
              "    <tr>\n",
              "      <th>4</th>\n",
              "      <td>d590e434f287f52f7871018d841d5c0a0b970e2b049e39...</td>\n",
              "      <td>[NoCrime]</td>\n",
              "      <td>Advertisement,Paper,Flyer,Poster,Brochure,Book</td>\n",
              "    </tr>\n",
              "  </tbody>\n",
              "</table>\n",
              "</div>"
            ],
            "text/plain": [
              "                                                  id  ...                                      object_labels\n",
              "0  f42884d282acb522a396c2402764196e29e1e903235b64...  ...  Person,Human,Face,Hair,Clothing,Apparel,Female...\n",
              "1  e13857bad42bc7136d46d31eee7b203deae19c7dc51f09...  ...  Bow,Human,Person,Cello,Musical Instrument,Art,...\n",
              "2  fb7ae430fbe7595a6631ba1a4ab44c3031cc4ef9385d54...  ...  Furniture,Pet,Cat,Animal,Mammal,Couch,Blanket,...\n",
              "3  d852496f5363579213ba597a273bc94e6f33870d7c3807...  ...  Human,Person,Face,Costume,Apparel,Clothing,Fem...\n",
              "4  d590e434f287f52f7871018d841d5c0a0b970e2b049e39...  ...     Advertisement,Paper,Flyer,Poster,Brochure,Book\n",
              "\n",
              "[5 rows x 3 columns]"
            ]
          },
          "metadata": {
            "tags": []
          },
          "execution_count": 11
        }
      ]
    },
    {
      "cell_type": "code",
      "metadata": {
        "id": "5o4kUsfu5c5K",
        "colab_type": "code",
        "outputId": "3ba20de7-7881-4802-9102-d4e50ca0f0eb",
        "colab": {
          "base_uri": "https://localhost:8080/",
          "height": 593
        }
      },
      "source": [
        "\n",
        "a = pd.Series([item for sublist in df.tags for item in sublist])\n",
        "df_a = a.value_counts().sort_index().rename_axis('tags').reset_index(name='f')\n",
        "# df_a.head()\n",
        "df_a = df_a.set_index('tags')\n",
        "# df_a.info()\n",
        "\n",
        "plt.subplots(figsize=(18,8))\n",
        "df_a['f'].plot.bar()"
      ],
      "execution_count": 0,
      "outputs": [
        {
          "output_type": "execute_result",
          "data": {
            "text/plain": [
              "<matplotlib.axes._subplots.AxesSubplot at 0x7f33b8da2358>"
            ]
          },
          "metadata": {
            "tags": []
          },
          "execution_count": 12
        },
        {
          "output_type": "display_data",
          "data": {
            "image/png": "[encoded data removed]",
            "text/plain": [
              "<Figure size 1296x576 with 1 Axes>"
            ]
          },
          "metadata": {
            "tags": []
          }
        }
      ]
    },
    {
      "cell_type": "code",
      "metadata": {
        "id": "jKh1YqNHUyCb",
        "colab_type": "code",
        "outputId": "3e01407a-f0a8-44a0-e2ad-1ee1df255873",
        "colab": {
          "base_uri": "https://localhost:8080/",
          "height": 238
        }
      },
      "source": [
        "df_a.head()\n",
        "# df.info()"
      ],
      "execution_count": 0,
      "outputs": [
        {
          "output_type": "execute_result",
          "data": {
            "text/html": [
              "<div>\n",
              "<style scoped>\n",
              "    .dataframe tbody tr th:only-of-type {\n",
              "        vertical-align: middle;\n",
              "    }\n",
              "\n",
              "    .dataframe tbody tr th {\n",
              "        vertical-align: top;\n",
              "    }\n",
              "\n",
              "    .dataframe thead th {\n",
              "        text-align: right;\n",
              "    }\n",
              "</style>\n",
              "<table border=\"1\" class=\"dataframe\">\n",
              "  <thead>\n",
              "    <tr style=\"text-align: right;\">\n",
              "      <th></th>\n",
              "      <th>f</th>\n",
              "    </tr>\n",
              "    <tr>\n",
              "      <th>tags</th>\n",
              "      <th></th>\n",
              "    </tr>\n",
              "  </thead>\n",
              "  <tbody>\n",
              "    <tr>\n",
              "      <th>Assault</th>\n",
              "      <td>117</td>\n",
              "    </tr>\n",
              "    <tr>\n",
              "      <th>Drugs</th>\n",
              "      <td>120</td>\n",
              "    </tr>\n",
              "    <tr>\n",
              "      <th>Gun</th>\n",
              "      <td>325</td>\n",
              "    </tr>\n",
              "    <tr>\n",
              "      <th>Homicide</th>\n",
              "      <td>179</td>\n",
              "    </tr>\n",
              "    <tr>\n",
              "      <th>Hostage</th>\n",
              "      <td>104</td>\n",
              "    </tr>\n",
              "  </tbody>\n",
              "</table>\n",
              "</div>"
            ],
            "text/plain": [
              "            f\n",
              "tags         \n",
              "Assault   117\n",
              "Drugs     120\n",
              "Gun       325\n",
              "Homicide  179\n",
              "Hostage   104"
            ]
          },
          "metadata": {
            "tags": []
          },
          "execution_count": 66
        }
      ]
    },
    {
      "cell_type": "code",
      "metadata": {
        "id": "8SFHDpurk83U",
        "colab_type": "code",
        "outputId": "9eab187c-b32f-48dc-ddfa-47e5414508a6",
        "colab": {
          "base_uri": "https://localhost:8080/",
          "height": 35
        }
      },
      "source": [
        "# tfidf = TfidfVectorizer(sublinear_tf=True, min_df=1, norm='l2', encoding='latin-1', ngram_range=(1))\n",
        "tfidf = TfidfVectorizer(sublinear_tf=True, min_df=1, norm='l2', encoding='latin-1', ngram_range=(1, 1))\n",
        "features =  tfidf.fit_transform(df.object_labels.values.astype('U')).toarray()\n",
        "# features = tfidf.fit_transform(df.object_labels).toarray()\n",
        "labels = df.tags\n",
        "features.shape"
      ],
      "execution_count": 0,
      "outputs": [
        {
          "output_type": "execute_result",
          "data": {
            "text/plain": [
              "(10760, 1866)"
            ]
          },
          "metadata": {
            "tags": []
          },
          "execution_count": 68
        }
      ]
    },
    {
      "cell_type": "code",
      "metadata": {
        "id": "EEgPh1ro-na8",
        "colab_type": "code",
        "outputId": "840ffe80-4219-49fd-d0a7-66eee26ac9a1",
        "colab": {
          "base_uri": "https://localhost:8080/",
          "height": 206
        }
      },
      "source": [
        "from io import StringIO\n",
        "\n",
        "col = ['tags_string', 'object_labels']\n",
        "df['tags_string'] = [','.join(map(str, l)) for l in df['tags']]\n",
        "\n",
        "df = df[col]\n",
        "df = df[pd.notnull(df['object_labels'])]\n",
        "df.columns = ['tags_string', 'object_labels']\n",
        "df['category_id'] = df['tags_string'].factorize()[0]\n",
        "category_id_df = df[['tags_string', 'category_id']].drop_duplicates().sort_values('category_id')\n",
        "category_to_id = dict(category_id_df.values)\n",
        "id_to_category = dict(category_id_df[['category_id', 'tags_string']].values)\n",
        "df.head()\n",
        "\n"
      ],
      "execution_count": 0,
      "outputs": [
        {
          "output_type": "execute_result",
          "data": {
            "text/html": [
              "<div>\n",
              "<style scoped>\n",
              "    .dataframe tbody tr th:only-of-type {\n",
              "        vertical-align: middle;\n",
              "    }\n",
              "\n",
              "    .dataframe tbody tr th {\n",
              "        vertical-align: top;\n",
              "    }\n",
              "\n",
              "    .dataframe thead th {\n",
              "        text-align: right;\n",
              "    }\n",
              "</style>\n",
              "<table border=\"1\" class=\"dataframe\">\n",
              "  <thead>\n",
              "    <tr style=\"text-align: right;\">\n",
              "      <th></th>\n",
              "      <th>tags_string</th>\n",
              "      <th>object_labels</th>\n",
              "      <th>category_id</th>\n",
              "    </tr>\n",
              "  </thead>\n",
              "  <tbody>\n",
              "    <tr>\n",
              "      <th>0</th>\n",
              "      <td>NoCrime</td>\n",
              "      <td>Person,Human,Face,Hair,Clothing,Apparel,Female...</td>\n",
              "      <td>0</td>\n",
              "    </tr>\n",
              "    <tr>\n",
              "      <th>1</th>\n",
              "      <td>NoCrime</td>\n",
              "      <td>Bow,Human,Person,Cello,Musical Instrument,Art,...</td>\n",
              "      <td>0</td>\n",
              "    </tr>\n",
              "    <tr>\n",
              "      <th>2</th>\n",
              "      <td>NoCrime</td>\n",
              "      <td>Furniture,Pet,Cat,Animal,Mammal,Couch,Blanket,...</td>\n",
              "      <td>0</td>\n",
              "    </tr>\n",
              "    <tr>\n",
              "      <th>3</th>\n",
              "      <td>NoCrime</td>\n",
              "      <td>Human,Person,Face,Costume,Apparel,Clothing,Fem...</td>\n",
              "      <td>0</td>\n",
              "    </tr>\n",
              "    <tr>\n",
              "      <th>4</th>\n",
              "      <td>NoCrime</td>\n",
              "      <td>Advertisement,Paper,Flyer,Poster,Brochure,Book</td>\n",
              "      <td>0</td>\n",
              "    </tr>\n",
              "  </tbody>\n",
              "</table>\n",
              "</div>"
            ],
            "text/plain": [
              "  tags_string                                      object_labels  category_id\n",
              "0     NoCrime  Person,Human,Face,Hair,Clothing,Apparel,Female...            0\n",
              "1     NoCrime  Bow,Human,Person,Cello,Musical Instrument,Art,...            0\n",
              "2     NoCrime  Furniture,Pet,Cat,Animal,Mammal,Couch,Blanket,...            0\n",
              "3     NoCrime  Human,Person,Face,Costume,Apparel,Clothing,Fem...            0\n",
              "4     NoCrime     Advertisement,Paper,Flyer,Poster,Brochure,Book            0"
            ]
          },
          "metadata": {
            "tags": []
          },
          "execution_count": 69
        }
      ]
    },
    {
      "cell_type": "code",
      "metadata": {
        "id": "T-lFajaqAq5Q",
        "colab_type": "code",
        "outputId": "56e7fe09-0f2c-4479-fb3f-e6c14c28a256",
        "colab": {
          "base_uri": "https://localhost:8080/",
          "height": 55
        }
      },
      "source": [
        "df.head()\n",
        "print(category_to_id)"
      ],
      "execution_count": 0,
      "outputs": [
        {
          "output_type": "stream",
          "text": [
            "{'NoCrime': 0, 'PropertyDamage': 1, 'Gun': 2, 'Homicide': 3, 'Vehicular': 4, 'Theft,Gun': 5, 'Assault': 6, 'Hostage': 7, 'Theft': 8, 'Homicide,SexOffence': 9, 'Assault,Drugs': 10, 'NoCrime,Hostage': 11, 'SexOffence': 12, 'Homicide,Hostage': 13, 'Gun,Hostage': 14, 'Gun,Vehicular': 15, 'Gun,Vehicular,Hostage': 16, 'Assault,Gun': 17, 'Drugs': 18, '': 19, 'Theft,Vehicular': 20, 'Theft,Hostage': 21, 'PropertyDamage,Vehicular': 22, 'Assault,Theft,Gun': 23, 'Theft,Gun,Homicide': 24, 'Gun,PropertyDamage': 25, 'Theft,Gun,Hostage': 26, 'Assault,Vehicular,Hostage': 27, 'Assault,Theft': 28, 'Gun,Homicide': 29, 'Assault,Theft,Gun,Drugs,Hostage': 30, 'Assault,Theft,Gun,Hostage': 31, 'Theft,Drugs,PropertyDamage,Homicide,Vehicular': 32, 'Assault,Theft,Gun,Drugs,PropertyDamage,Homicide,Vehicular,SexOffence,Hostage': 33, 'Theft,Drugs,PropertyDamage,Homicide,SexOffence': 34, 'Vehicular,Hostage': 35, 'Theft,Gun,Drugs,PropertyDamage,Homicide,Vehicular,SexOffence': 36, 'Assault,Theft,Drugs,PropertyDamage,Homicide,Vehicular,SexOffence,Hostage': 37, 'Assault,Theft,Drugs,PropertyDamage,Homicide,Vehicular,SexOffence': 38, 'Theft,Drugs,Homicide,SexOffence': 39, 'Theft,Gun,Drugs,PropertyDamage,Homicide,SexOffence,Hostage': 40, 'PropertyDamage,Homicide,Vehicular,SexOffence': 41, 'Drugs,PropertyDamage,Homicide,Vehicular': 42, 'Assault,Vehicular': 43, 'Theft,Gun,Drugs,PropertyDamage,Homicide,Vehicular,SexOffence,Hostage': 44, 'Theft,Drugs,PropertyDamage,Homicide,Vehicular,SexOffence': 45, 'Assault,Theft,Gun,Drugs,PropertyDamage,Homicide,Vehicular,SexOffence': 46, 'Gun,Drugs,PropertyDamage,Homicide': 47, 'Theft,Gun,PropertyDamage': 48, 'Theft,Gun,PropertyDamage,Homicide,Vehicular': 49, 'Theft,Drugs,PropertyDamage,Homicide,Vehicular,SexOffence,Hostage': 50, 'Assault,Gun,Hostage': 51, 'Theft,Homicide': 52, 'Assault,PropertyDamage,Vehicular': 53, 'Theft,SexOffence,Hostage': 54, 'Assault,Theft,Drugs,Homicide,Vehicular,SexOffence': 55, 'Theft,Gun,Drugs,PropertyDamage,Homicide': 56, 'Drugs,PropertyDamage,Homicide': 57, 'Gun,Homicide,Vehicular,SexOffence': 58, 'Theft,Gun,Drugs,PropertyDamage,Homicide,Vehicular': 59, 'Assault,Theft,PropertyDamage,Homicide,SexOffence': 60, 'Theft,PropertyDamage,Homicide': 61, 'Theft,Gun,Vehicular': 62, 'PropertyDamage,Homicide': 63, 'Assault,Theft,Drugs,PropertyDamage,Homicide,Vehicular,Hostage': 64, 'Assault,Theft,Drugs,Homicide,SexOffence': 65, 'Assault,Theft,PropertyDamage,Homicide': 66, 'Assault,Theft,Drugs,PropertyDamage,Homicide,SexOffence': 67, 'Theft,PropertyDamage,Homicide,Vehicular,SexOffence': 68, 'Gun,PropertyDamage,Homicide,Vehicular,Hostage': 69, 'Gun,Drugs,PropertyDamage,Homicide,Vehicular,SexOffence': 70, 'Gun,PropertyDamage,Homicide': 71, 'PropertyDamage,Homicide,Vehicular': 72, 'Assault,Theft,Vehicular,Hostage': 73, 'Theft,Drugs': 74, 'Assault,Homicide': 75, 'Theft,Homicide,Vehicular,Hostage': 76, 'Theft,PropertyDamage,Homicide,SexOffence': 77, 'Theft,Gun,PropertyDamage,Homicide,Vehicular,SexOffence,Hostage': 78, 'Theft,Gun,Drugs,Homicide,Vehicular,SexOffence': 79, 'Assault,Theft,Drugs,PropertyDamage,Homicide,Hostage': 80, 'Theft,Gun,Drugs,PropertyDamage,Homicide,Vehicular,Hostage': 81, 'Theft,Drugs,Homicide,Vehicular': 82, 'Gun,Drugs': 83, 'Assault,Theft,Homicide,SexOffence': 84, 'Homicide,Vehicular,Hostage': 85, 'Gun,Homicide,Vehicular': 86, 'Theft,PropertyDamage': 87, 'Assault,Theft,Gun,PropertyDamage': 88}\n"
          ],
          "name": "stdout"
        }
      ]
    },
    {
      "cell_type": "code",
      "metadata": {
        "id": "vpoujCrx-Ljl",
        "colab_type": "code",
        "outputId": "8531ebfb-e376-494d-b2a2-531e4b2a67a9",
        "colab": {
          "base_uri": "https://localhost:8080/",
          "height": 1000
        }
      },
      "source": [
        "from sklearn.feature_selection import chi2\n",
        "import numpy as np\n",
        "N = 2\n",
        "\n",
        "for Tags, category_id in sorted(category_to_id.items()):\n",
        "  features_chi2 = chi2(features, labels == category_id)\n",
        "  indices = np.argsort(features_chi2[0])\n",
        "  feature_names = np.array(tfidf.get_feature_names())[indices]\n",
        "  unigrams = [v for v in feature_names if len(v.split(' ')) == 1]\n",
        "  bigrams = [v for v in feature_names if len(v.split(' ')) == 2]\n",
        "  print(\"# '{}':\".format(Tags))\n",
        "  print(\"  . Most correlated unigrams:\\n. {}\".format('\\n. '.join(unigrams[-N:])))\n",
        "  print(\"  . Most correlated bigrams:\\n. {}\".format('\\n. '.join(bigrams[-N:])))"
      ],
      "execution_count": 0,
      "outputs": [
        {
          "output_type": "stream",
          "text": [
            "# '':\n",
            "  . Most correlated unigrams:\n",
            ". final\n",
            ". zoo\n",
            "  . Most correlated bigrams:\n",
            ". \n",
            "# 'Assault':\n",
            "  . Most correlated unigrams:\n",
            ". final\n",
            ". zoo\n",
            "  . Most correlated bigrams:\n",
            ". \n",
            "# 'Assault,Drugs':\n",
            "  . Most correlated unigrams:\n",
            ". final\n",
            ". zoo\n",
            "  . Most correlated bigrams:\n",
            ". \n",
            "# 'Assault,Gun':\n",
            "  . Most correlated unigrams:\n",
            ". final\n",
            ". zoo\n",
            "  . Most correlated bigrams:\n",
            ". \n",
            "# 'Assault,Gun,Hostage':\n",
            "  . Most correlated unigrams:\n",
            ". final\n",
            ". zoo\n",
            "  . Most correlated bigrams:\n",
            ". \n",
            "# 'Assault,Homicide':\n",
            "  . Most correlated unigrams:\n",
            ". final\n",
            ". zoo\n",
            "  . Most correlated bigrams:\n",
            ". \n",
            "# 'Assault,PropertyDamage,Vehicular':\n",
            "  . Most correlated unigrams:\n",
            ". final\n",
            ". zoo\n",
            "  . Most correlated bigrams:\n",
            ". \n",
            "# 'Assault,Theft':\n",
            "  . Most correlated unigrams:\n",
            ". final\n",
            ". zoo\n",
            "  . Most correlated bigrams:\n",
            ". \n",
            "# 'Assault,Theft,Drugs,Homicide,SexOffence':\n",
            "  . Most correlated unigrams:\n",
            ". final\n",
            ". zoo\n",
            "  . Most correlated bigrams:\n",
            ". \n",
            "# 'Assault,Theft,Drugs,Homicide,Vehicular,SexOffence':\n",
            "  . Most correlated unigrams:\n",
            ". final\n",
            ". zoo\n",
            "  . Most correlated bigrams:\n",
            ". \n",
            "# 'Assault,Theft,Drugs,PropertyDamage,Homicide,Hostage':\n",
            "  . Most correlated unigrams:\n",
            ". final\n",
            ". zoo\n",
            "  . Most correlated bigrams:\n",
            ". \n",
            "# 'Assault,Theft,Drugs,PropertyDamage,Homicide,SexOffence':\n",
            "  . Most correlated unigrams:\n",
            ". final\n",
            ". zoo\n",
            "  . Most correlated bigrams:\n",
            ". \n",
            "# 'Assault,Theft,Drugs,PropertyDamage,Homicide,Vehicular,Hostage':\n",
            "  . Most correlated unigrams:\n",
            ". final\n",
            ". zoo\n",
            "  . Most correlated bigrams:\n",
            ". \n",
            "# 'Assault,Theft,Drugs,PropertyDamage,Homicide,Vehicular,SexOffence':\n",
            "  . Most correlated unigrams:\n",
            ". final\n",
            ". zoo\n",
            "  . Most correlated bigrams:\n",
            ". \n",
            "# 'Assault,Theft,Drugs,PropertyDamage,Homicide,Vehicular,SexOffence,Hostage':\n",
            "  . Most correlated unigrams:\n",
            ". final\n",
            ". zoo\n",
            "  . Most correlated bigrams:\n",
            ". \n",
            "# 'Assault,Theft,Gun':\n",
            "  . Most correlated unigrams:\n",
            ". final\n",
            ". zoo\n",
            "  . Most correlated bigrams:\n",
            ". \n",
            "# 'Assault,Theft,Gun,Drugs,Hostage':\n",
            "  . Most correlated unigrams:\n",
            ". final\n",
            ". zoo\n",
            "  . Most correlated bigrams:\n",
            ". \n",
            "# 'Assault,Theft,Gun,Drugs,PropertyDamage,Homicide,Vehicular,SexOffence':\n",
            "  . Most correlated unigrams:\n",
            ". final\n",
            ". zoo\n",
            "  . Most correlated bigrams:\n",
            ". \n",
            "# 'Assault,Theft,Gun,Drugs,PropertyDamage,Homicide,Vehicular,SexOffence,Hostage':\n",
            "  . Most correlated unigrams:\n",
            ". final\n",
            ". zoo\n",
            "  . Most correlated bigrams:\n",
            ". \n",
            "# 'Assault,Theft,Gun,Hostage':\n",
            "  . Most correlated unigrams:\n",
            ". final\n",
            ". zoo\n",
            "  . Most correlated bigrams:\n",
            ". \n",
            "# 'Assault,Theft,Gun,PropertyDamage':\n",
            "  . Most correlated unigrams:\n",
            ". final\n",
            ". zoo\n",
            "  . Most correlated bigrams:\n",
            ". \n",
            "# 'Assault,Theft,Homicide,SexOffence':\n",
            "  . Most correlated unigrams:\n",
            ". final\n",
            ". zoo\n",
            "  . Most correlated bigrams:\n",
            ". \n",
            "# 'Assault,Theft,PropertyDamage,Homicide':\n",
            "  . Most correlated unigrams:\n",
            ". final\n",
            ". zoo\n",
            "  . Most correlated bigrams:\n",
            ". \n",
            "# 'Assault,Theft,PropertyDamage,Homicide,SexOffence':\n",
            "  . Most correlated unigrams:\n",
            ". final\n",
            ". zoo\n",
            "  . Most correlated bigrams:\n",
            ". \n",
            "# 'Assault,Theft,Vehicular,Hostage':\n",
            "  . Most correlated unigrams:\n",
            ". final\n",
            ". zoo\n",
            "  . Most correlated bigrams:\n",
            ". \n",
            "# 'Assault,Vehicular':\n",
            "  . Most correlated unigrams:\n",
            ". final\n",
            ". zoo\n",
            "  . Most correlated bigrams:\n",
            ". \n",
            "# 'Assault,Vehicular,Hostage':\n",
            "  . Most correlated unigrams:\n",
            ". final\n",
            ". zoo\n",
            "  . Most correlated bigrams:\n",
            ". \n",
            "# 'Drugs':\n",
            "  . Most correlated unigrams:\n",
            ". final\n",
            ". zoo\n",
            "  . Most correlated bigrams:\n",
            ". \n",
            "# 'Drugs,PropertyDamage,Homicide':\n",
            "  . Most correlated unigrams:\n",
            ". final\n",
            ". zoo\n",
            "  . Most correlated bigrams:\n",
            ". \n",
            "# 'Drugs,PropertyDamage,Homicide,Vehicular':\n",
            "  . Most correlated unigrams:\n",
            ". final\n",
            ". zoo\n",
            "  . Most correlated bigrams:\n",
            ". \n",
            "# 'Gun':\n",
            "  . Most correlated unigrams:\n",
            ". final\n",
            ". zoo\n",
            "  . Most correlated bigrams:\n",
            ". \n",
            "# 'Gun,Drugs':\n",
            "  . Most correlated unigrams:\n",
            ". final\n",
            ". zoo\n",
            "  . Most correlated bigrams:\n",
            ". \n",
            "# 'Gun,Drugs,PropertyDamage,Homicide':\n",
            "  . Most correlated unigrams:\n",
            ". final\n",
            ". zoo\n",
            "  . Most correlated bigrams:\n",
            ". \n",
            "# 'Gun,Drugs,PropertyDamage,Homicide,Vehicular,SexOffence':\n",
            "  . Most correlated unigrams:\n",
            ". final\n",
            ". zoo\n",
            "  . Most correlated bigrams:\n",
            ". \n",
            "# 'Gun,Homicide':\n",
            "  . Most correlated unigrams:\n",
            ". final\n",
            ". zoo\n",
            "  . Most correlated bigrams:\n",
            ". \n",
            "# 'Gun,Homicide,Vehicular':\n",
            "  . Most correlated unigrams:\n",
            ". final\n",
            ". zoo\n",
            "  . Most correlated bigrams:\n",
            ". \n",
            "# 'Gun,Homicide,Vehicular,SexOffence':\n",
            "  . Most correlated unigrams:\n",
            ". final\n",
            ". zoo\n",
            "  . Most correlated bigrams:\n",
            ". \n",
            "# 'Gun,Hostage':\n",
            "  . Most correlated unigrams:\n",
            ". final\n",
            ". zoo\n",
            "  . Most correlated bigrams:\n",
            ". \n",
            "# 'Gun,PropertyDamage':\n",
            "  . Most correlated unigrams:\n",
            ". final\n",
            ". zoo\n",
            "  . Most correlated bigrams:\n",
            ". \n",
            "# 'Gun,PropertyDamage,Homicide':\n",
            "  . Most correlated unigrams:\n",
            ". final\n",
            ". zoo\n",
            "  . Most correlated bigrams:\n",
            ". \n",
            "# 'Gun,PropertyDamage,Homicide,Vehicular,Hostage':\n",
            "  . Most correlated unigrams:\n",
            ". final\n",
            ". zoo\n",
            "  . Most correlated bigrams:\n",
            ". \n",
            "# 'Gun,Vehicular':\n",
            "  . Most correlated unigrams:\n",
            ". final\n",
            ". zoo\n",
            "  . Most correlated bigrams:\n",
            ". \n",
            "# 'Gun,Vehicular,Hostage':\n",
            "  . Most correlated unigrams:\n",
            ". final\n",
            ". zoo\n",
            "  . Most correlated bigrams:\n",
            ". \n",
            "# 'Homicide':\n",
            "  . Most correlated unigrams:\n",
            ". final\n",
            ". zoo\n",
            "  . Most correlated bigrams:\n",
            ". \n",
            "# 'Homicide,Hostage':\n",
            "  . Most correlated unigrams:\n",
            ". final\n",
            ". zoo\n",
            "  . Most correlated bigrams:\n",
            ". \n",
            "# 'Homicide,SexOffence':\n",
            "  . Most correlated unigrams:\n",
            ". final\n",
            ". zoo\n",
            "  . Most correlated bigrams:\n",
            ". \n",
            "# 'Homicide,Vehicular,Hostage':\n",
            "  . Most correlated unigrams:\n",
            ". final\n",
            ". zoo\n",
            "  . Most correlated bigrams:\n",
            ". \n",
            "# 'Hostage':\n",
            "  . Most correlated unigrams:\n",
            ". final\n",
            ". zoo\n",
            "  . Most correlated bigrams:\n",
            ". \n",
            "# 'NoCrime':\n",
            "  . Most correlated unigrams:\n",
            ". final\n",
            ". zoo\n",
            "  . Most correlated bigrams:\n",
            ". \n",
            "# 'NoCrime,Hostage':\n",
            "  . Most correlated unigrams:\n",
            ". final\n",
            ". zoo\n",
            "  . Most correlated bigrams:\n",
            ". \n",
            "# 'PropertyDamage':\n",
            "  . Most correlated unigrams:\n",
            ". final\n",
            ". zoo\n",
            "  . Most correlated bigrams:\n",
            ". \n",
            "# 'PropertyDamage,Homicide':\n",
            "  . Most correlated unigrams:\n",
            ". final\n",
            ". zoo\n",
            "  . Most correlated bigrams:\n",
            ". \n",
            "# 'PropertyDamage,Homicide,Vehicular':\n",
            "  . Most correlated unigrams:\n",
            ". final\n",
            ". zoo\n",
            "  . Most correlated bigrams:\n",
            ". \n",
            "# 'PropertyDamage,Homicide,Vehicular,SexOffence':\n",
            "  . Most correlated unigrams:\n",
            ". final\n",
            ". zoo\n",
            "  . Most correlated bigrams:\n",
            ". \n",
            "# 'PropertyDamage,Vehicular':\n",
            "  . Most correlated unigrams:\n",
            ". final\n",
            ". zoo\n",
            "  . Most correlated bigrams:\n",
            ". \n",
            "# 'SexOffence':\n",
            "  . Most correlated unigrams:\n",
            ". final\n",
            ". zoo\n",
            "  . Most correlated bigrams:\n",
            ". \n",
            "# 'Theft':\n",
            "  . Most correlated unigrams:\n",
            ". final\n",
            ". zoo\n",
            "  . Most correlated bigrams:\n",
            ". \n",
            "# 'Theft,Drugs':\n",
            "  . Most correlated unigrams:\n",
            ". final\n",
            ". zoo\n",
            "  . Most correlated bigrams:\n",
            ". \n",
            "# 'Theft,Drugs,Homicide,SexOffence':\n",
            "  . Most correlated unigrams:\n",
            ". final\n",
            ". zoo\n",
            "  . Most correlated bigrams:\n",
            ". \n",
            "# 'Theft,Drugs,Homicide,Vehicular':\n",
            "  . Most correlated unigrams:\n",
            ". final\n",
            ". zoo\n",
            "  . Most correlated bigrams:\n",
            ". \n",
            "# 'Theft,Drugs,PropertyDamage,Homicide,SexOffence':\n",
            "  . Most correlated unigrams:\n",
            ". final\n",
            ". zoo\n",
            "  . Most correlated bigrams:\n",
            ". \n",
            "# 'Theft,Drugs,PropertyDamage,Homicide,Vehicular':\n",
            "  . Most correlated unigrams:\n",
            ". final\n",
            ". zoo\n",
            "  . Most correlated bigrams:\n",
            ". \n",
            "# 'Theft,Drugs,PropertyDamage,Homicide,Vehicular,SexOffence':\n",
            "  . Most correlated unigrams:\n",
            ". final\n",
            ". zoo\n",
            "  . Most correlated bigrams:\n",
            ". \n",
            "# 'Theft,Drugs,PropertyDamage,Homicide,Vehicular,SexOffence,Hostage':\n",
            "  . Most correlated unigrams:\n",
            ". final\n",
            ". zoo\n",
            "  . Most correlated bigrams:\n",
            ". \n",
            "# 'Theft,Gun':\n",
            "  . Most correlated unigrams:\n",
            ". final\n",
            ". zoo\n",
            "  . Most correlated bigrams:\n",
            ". \n",
            "# 'Theft,Gun,Drugs,Homicide,Vehicular,SexOffence':\n",
            "  . Most correlated unigrams:\n",
            ". final\n",
            ". zoo\n",
            "  . Most correlated bigrams:\n",
            ". \n",
            "# 'Theft,Gun,Drugs,PropertyDamage,Homicide':\n",
            "  . Most correlated unigrams:\n",
            ". final\n",
            ". zoo\n",
            "  . Most correlated bigrams:\n",
            ". \n",
            "# 'Theft,Gun,Drugs,PropertyDamage,Homicide,SexOffence,Hostage':\n",
            "  . Most correlated unigrams:\n",
            ". final\n",
            ". zoo\n",
            "  . Most correlated bigrams:\n",
            ". \n",
            "# 'Theft,Gun,Drugs,PropertyDamage,Homicide,Vehicular':\n",
            "  . Most correlated unigrams:\n",
            ". final\n",
            ". zoo\n",
            "  . Most correlated bigrams:\n",
            ". \n",
            "# 'Theft,Gun,Drugs,PropertyDamage,Homicide,Vehicular,Hostage':\n",
            "  . Most correlated unigrams:\n",
            ". final\n",
            ". zoo\n",
            "  . Most correlated bigrams:\n",
            ". \n",
            "# 'Theft,Gun,Drugs,PropertyDamage,Homicide,Vehicular,SexOffence':\n",
            "  . Most correlated unigrams:\n",
            ". final\n",
            ". zoo\n",
            "  . Most correlated bigrams:\n",
            ". \n",
            "# 'Theft,Gun,Drugs,PropertyDamage,Homicide,Vehicular,SexOffence,Hostage':\n",
            "  . Most correlated unigrams:\n",
            ". final\n",
            ". zoo\n",
            "  . Most correlated bigrams:\n",
            ". \n",
            "# 'Theft,Gun,Homicide':\n",
            "  . Most correlated unigrams:\n",
            ". final\n",
            ". zoo\n",
            "  . Most correlated bigrams:\n",
            ". \n",
            "# 'Theft,Gun,Hostage':\n",
            "  . Most correlated unigrams:\n",
            ". final\n",
            ". zoo\n",
            "  . Most correlated bigrams:\n",
            ". \n",
            "# 'Theft,Gun,PropertyDamage':\n",
            "  . Most correlated unigrams:\n",
            ". final\n",
            ". zoo\n",
            "  . Most correlated bigrams:\n",
            ". \n",
            "# 'Theft,Gun,PropertyDamage,Homicide,Vehicular':\n",
            "  . Most correlated unigrams:\n",
            ". final\n",
            ". zoo\n",
            "  . Most correlated bigrams:\n",
            ". \n",
            "# 'Theft,Gun,PropertyDamage,Homicide,Vehicular,SexOffence,Hostage':\n",
            "  . Most correlated unigrams:\n",
            ". final\n",
            ". zoo\n",
            "  . Most correlated bigrams:\n",
            ". \n",
            "# 'Theft,Gun,Vehicular':\n",
            "  . Most correlated unigrams:\n",
            ". final\n",
            ". zoo\n",
            "  . Most correlated bigrams:\n",
            ". \n",
            "# 'Theft,Homicide':\n",
            "  . Most correlated unigrams:\n",
            ". final\n",
            ". zoo\n",
            "  . Most correlated bigrams:\n",
            ". \n",
            "# 'Theft,Homicide,Vehicular,Hostage':\n",
            "  . Most correlated unigrams:\n",
            ". final\n",
            ". zoo\n",
            "  . Most correlated bigrams:\n",
            ". \n",
            "# 'Theft,Hostage':\n",
            "  . Most correlated unigrams:\n",
            ". final\n",
            ". zoo\n",
            "  . Most correlated bigrams:\n",
            ". \n",
            "# 'Theft,PropertyDamage':\n",
            "  . Most correlated unigrams:\n",
            ". final\n",
            ". zoo\n",
            "  . Most correlated bigrams:\n",
            ". \n",
            "# 'Theft,PropertyDamage,Homicide':\n",
            "  . Most correlated unigrams:\n",
            ". final\n",
            ". zoo\n",
            "  . Most correlated bigrams:\n",
            ". \n",
            "# 'Theft,PropertyDamage,Homicide,SexOffence':\n",
            "  . Most correlated unigrams:\n",
            ". final\n",
            ". zoo\n",
            "  . Most correlated bigrams:\n",
            ". \n",
            "# 'Theft,PropertyDamage,Homicide,Vehicular,SexOffence':\n",
            "  . Most correlated unigrams:\n",
            ". final\n",
            ". zoo\n",
            "  . Most correlated bigrams:\n",
            ". \n",
            "# 'Theft,SexOffence,Hostage':\n",
            "  . Most correlated unigrams:\n",
            ". final\n",
            ". zoo\n",
            "  . Most correlated bigrams:\n",
            ". \n",
            "# 'Theft,Vehicular':\n",
            "  . Most correlated unigrams:\n",
            ". final\n",
            ". zoo\n",
            "  . Most correlated bigrams:\n",
            ". \n",
            "# 'Vehicular':\n",
            "  . Most correlated unigrams:\n",
            ". final\n",
            ". zoo\n",
            "  . Most correlated bigrams:\n",
            ". \n",
            "# 'Vehicular,Hostage':\n",
            "  . Most correlated unigrams:\n",
            ". final\n",
            ". zoo\n",
            "  . Most correlated bigrams:\n",
            ". \n"
          ],
          "name": "stdout"
        }
      ]
    },
    {
      "cell_type": "code",
      "metadata": {
        "id": "iJ-mMBltBnEk",
        "colab_type": "code",
        "colab": {}
      },
      "source": [
        "from sklearn.model_selection import train_test_split\n",
        "from sklearn.feature_extraction.text import CountVectorizer\n",
        "from sklearn.feature_extraction.text import TfidfTransformer\n",
        "from sklearn.naive_bayes import MultinomialNB\n",
        "\n",
        "X_train, X_test, y_train, y_test = train_test_split(df['object_labels'], df['tags_string'], random_state = 0)\n",
        "count_vect = CountVectorizer()\n",
        "X_train_counts = count_vect.fit_transform(X_train)\n",
        "tfidf_transformer = TfidfTransformer()\n",
        "X_train_tfidf = tfidf_transformer.fit_transform(X_train_counts)\n",
        "clf = MultinomialNB().fit(X_train_tfidf, y_train)"
      ],
      "execution_count": 0,
      "outputs": []
    },
    {
      "cell_type": "code",
      "metadata": {
        "id": "GF8h2mjpB6Nd",
        "colab_type": "code",
        "outputId": "79161007-ddfc-4e82-803b-bd2e89033138",
        "colab": {
          "base_uri": "https://localhost:8080/",
          "height": 35
        }
      },
      "source": [
        "print(clf.predict(count_vect.transform([\"Human, Gum, Shop, Knife\"])))"
      ],
      "execution_count": 0,
      "outputs": [
        {
          "output_type": "stream",
          "text": [
            "['NoCrime']\n"
          ],
          "name": "stdout"
        }
      ]
    },
    {
      "cell_type": "code",
      "metadata": {
        "id": "Q9SzawtaCD61",
        "colab_type": "code",
        "outputId": "9928d6bf-41d0-42d7-9335-9c25518515e3",
        "colab": {
          "base_uri": "https://localhost:8080/",
          "height": 410
        }
      },
      "source": [
        "from sklearn.linear_model import LogisticRegression\n",
        "from sklearn.ensemble import RandomForestClassifier\n",
        "from sklearn.svm import LinearSVC\n",
        "from sklearn.model_selection import cross_val_score\n",
        "models = [\n",
        "    RandomForestClassifier(n_estimators=200, max_depth=3, random_state=0),\n",
        "    LinearSVC(),\n",
        "    MultinomialNB(),\n",
        "    LogisticRegression(random_state=0),\n",
        "]\n",
        "CV = 5\n",
        "cv_df = pd.DataFrame(index=range(CV * len(models)))\n",
        "entries = []\n",
        "\n",
        "from sklearn.preprocessing import MultiLabelBinarizer\n",
        "MultiLabelBinarizer().fit_transform(features)\n",
        "\n",
        "\n",
        "\n",
        "for model in models:\n",
        "  model_name = model.__class__.__name__\n",
        "  accuracies = cross_val_score(model, features, labels, scoring='accuracy', cv=CV)\n",
        "  for fold_idx, accuracy in enumerate(accuracies):\n",
        "    entries.append((model_name, fold_idx, accuracy))\n",
        "cv_df = pd.DataFrame(entries, columns=['model_name', 'fold_idx', 'accuracy'])\n",
        "\n",
        "import seaborn as sns\n",
        "\n",
        "sns.boxplot(x='model_name', y='accuracy', data=cv_df)\n",
        "sns.stripplot(x='model_name', y='accuracy', data=cv_df, \n",
        "              size=8, jitter=True, edgecolor=\"gray\", linewidth=2)\n",
        "plt.show()"
      ],
      "execution_count": 0,
      "outputs": [
        {
          "output_type": "error",
          "ename": "ValueError",
          "evalue": "ignored",
          "traceback": [
            "\u001b[0;31m---------------------------------------------------------------------------\u001b[0m",
            "\u001b[0;31mValueError\u001b[0m                                Traceback (most recent call last)",
            "\u001b[0;32m<ipython-input-80-384d169c4ebd>\u001b[0m in \u001b[0;36m<module>\u001b[0;34m()\u001b[0m\n\u001b[1;32m     20\u001b[0m \u001b[0;32mfor\u001b[0m \u001b[0mmodel\u001b[0m \u001b[0;32min\u001b[0m \u001b[0mmodels\u001b[0m\u001b[0;34m:\u001b[0m\u001b[0;34m\u001b[0m\u001b[0;34m\u001b[0m\u001b[0m\n\u001b[1;32m     21\u001b[0m   \u001b[0mmodel_name\u001b[0m \u001b[0;34m=\u001b[0m \u001b[0mmodel\u001b[0m\u001b[0;34m.\u001b[0m\u001b[0m__class__\u001b[0m\u001b[0;34m.\u001b[0m\u001b[0m__name__\u001b[0m\u001b[0;34m\u001b[0m\u001b[0;34m\u001b[0m\u001b[0m\n\u001b[0;32m---> 22\u001b[0;31m   \u001b[0maccuracies\u001b[0m \u001b[0;34m=\u001b[0m \u001b[0mcross_val_score\u001b[0m\u001b[0;34m(\u001b[0m\u001b[0mmodel\u001b[0m\u001b[0;34m,\u001b[0m \u001b[0mfeatures\u001b[0m\u001b[0;34m,\u001b[0m \u001b[0mlabels\u001b[0m\u001b[0;34m,\u001b[0m \u001b[0mscoring\u001b[0m\u001b[0;34m=\u001b[0m\u001b[0;34m'accuracy'\u001b[0m\u001b[0;34m,\u001b[0m \u001b[0mcv\u001b[0m\u001b[0;34m=\u001b[0m\u001b[0mCV\u001b[0m\u001b[0;34m)\u001b[0m\u001b[0;34m\u001b[0m\u001b[0;34m\u001b[0m\u001b[0m\n\u001b[0m\u001b[1;32m     23\u001b[0m   \u001b[0;32mfor\u001b[0m \u001b[0mfold_idx\u001b[0m\u001b[0;34m,\u001b[0m \u001b[0maccuracy\u001b[0m \u001b[0;32min\u001b[0m \u001b[0menumerate\u001b[0m\u001b[0;34m(\u001b[0m\u001b[0maccuracies\u001b[0m\u001b[0;34m)\u001b[0m\u001b[0;34m:\u001b[0m\u001b[0;34m\u001b[0m\u001b[0;34m\u001b[0m\u001b[0m\n\u001b[1;32m     24\u001b[0m     \u001b[0mentries\u001b[0m\u001b[0;34m.\u001b[0m\u001b[0mappend\u001b[0m\u001b[0;34m(\u001b[0m\u001b[0;34m(\u001b[0m\u001b[0mmodel_name\u001b[0m\u001b[0;34m,\u001b[0m \u001b[0mfold_idx\u001b[0m\u001b[0;34m,\u001b[0m \u001b[0maccuracy\u001b[0m\u001b[0;34m)\u001b[0m\u001b[0;34m)\u001b[0m\u001b[0;34m\u001b[0m\u001b[0;34m\u001b[0m\u001b[0m\n",
            "\u001b[0;32m/usr/local/lib/python3.6/dist-packages/sklearn/model_selection/_validation.py\u001b[0m in \u001b[0;36mcross_val_score\u001b[0;34m(estimator, X, y, groups, scoring, cv, n_jobs, verbose, fit_params, pre_dispatch, error_score)\u001b[0m\n\u001b[1;32m    389\u001b[0m                                 \u001b[0mfit_params\u001b[0m\u001b[0;34m=\u001b[0m\u001b[0mfit_params\u001b[0m\u001b[0;34m,\u001b[0m\u001b[0;34m\u001b[0m\u001b[0;34m\u001b[0m\u001b[0m\n\u001b[1;32m    390\u001b[0m                                 \u001b[0mpre_dispatch\u001b[0m\u001b[0;34m=\u001b[0m\u001b[0mpre_dispatch\u001b[0m\u001b[0;34m,\u001b[0m\u001b[0;34m\u001b[0m\u001b[0;34m\u001b[0m\u001b[0m\n\u001b[0;32m--> 391\u001b[0;31m                                 error_score=error_score)\n\u001b[0m\u001b[1;32m    392\u001b[0m     \u001b[0;32mreturn\u001b[0m \u001b[0mcv_results\u001b[0m\u001b[0;34m[\u001b[0m\u001b[0;34m'test_score'\u001b[0m\u001b[0;34m]\u001b[0m\u001b[0;34m\u001b[0m\u001b[0;34m\u001b[0m\u001b[0m\n\u001b[1;32m    393\u001b[0m \u001b[0;34m\u001b[0m\u001b[0m\n",
            "\u001b[0;32m/usr/local/lib/python3.6/dist-packages/sklearn/model_selection/_validation.py\u001b[0m in \u001b[0;36mcross_validate\u001b[0;34m(estimator, X, y, groups, scoring, cv, n_jobs, verbose, fit_params, pre_dispatch, return_train_score, return_estimator, error_score)\u001b[0m\n\u001b[1;32m    217\u001b[0m     \u001b[0mX\u001b[0m\u001b[0;34m,\u001b[0m \u001b[0my\u001b[0m\u001b[0;34m,\u001b[0m \u001b[0mgroups\u001b[0m \u001b[0;34m=\u001b[0m \u001b[0mindexable\u001b[0m\u001b[0;34m(\u001b[0m\u001b[0mX\u001b[0m\u001b[0;34m,\u001b[0m \u001b[0my\u001b[0m\u001b[0;34m,\u001b[0m \u001b[0mgroups\u001b[0m\u001b[0;34m)\u001b[0m\u001b[0;34m\u001b[0m\u001b[0;34m\u001b[0m\u001b[0m\n\u001b[1;32m    218\u001b[0m \u001b[0;34m\u001b[0m\u001b[0m\n\u001b[0;32m--> 219\u001b[0;31m     \u001b[0mcv\u001b[0m \u001b[0;34m=\u001b[0m \u001b[0mcheck_cv\u001b[0m\u001b[0;34m(\u001b[0m\u001b[0mcv\u001b[0m\u001b[0;34m,\u001b[0m \u001b[0my\u001b[0m\u001b[0;34m,\u001b[0m \u001b[0mclassifier\u001b[0m\u001b[0;34m=\u001b[0m\u001b[0mis_classifier\u001b[0m\u001b[0;34m(\u001b[0m\u001b[0mestimator\u001b[0m\u001b[0;34m)\u001b[0m\u001b[0;34m)\u001b[0m\u001b[0;34m\u001b[0m\u001b[0;34m\u001b[0m\u001b[0m\n\u001b[0m\u001b[1;32m    220\u001b[0m     \u001b[0mscorers\u001b[0m\u001b[0;34m,\u001b[0m \u001b[0m_\u001b[0m \u001b[0;34m=\u001b[0m \u001b[0m_check_multimetric_scoring\u001b[0m\u001b[0;34m(\u001b[0m\u001b[0mestimator\u001b[0m\u001b[0;34m,\u001b[0m \u001b[0mscoring\u001b[0m\u001b[0;34m=\u001b[0m\u001b[0mscoring\u001b[0m\u001b[0;34m)\u001b[0m\u001b[0;34m\u001b[0m\u001b[0;34m\u001b[0m\u001b[0m\n\u001b[1;32m    221\u001b[0m \u001b[0;34m\u001b[0m\u001b[0m\n",
            "\u001b[0;32m/usr/local/lib/python3.6/dist-packages/sklearn/model_selection/_split.py\u001b[0m in \u001b[0;36mcheck_cv\u001b[0;34m(cv, y, classifier)\u001b[0m\n\u001b[1;32m   1981\u001b[0m     \u001b[0;32mif\u001b[0m \u001b[0misinstance\u001b[0m\u001b[0;34m(\u001b[0m\u001b[0mcv\u001b[0m\u001b[0;34m,\u001b[0m \u001b[0mnumbers\u001b[0m\u001b[0;34m.\u001b[0m\u001b[0mIntegral\u001b[0m\u001b[0;34m)\u001b[0m\u001b[0;34m:\u001b[0m\u001b[0;34m\u001b[0m\u001b[0;34m\u001b[0m\u001b[0m\n\u001b[1;32m   1982\u001b[0m         if (classifier and (y is not None) and\n\u001b[0;32m-> 1983\u001b[0;31m                 (type_of_target(y) in ('binary', 'multiclass'))):\n\u001b[0m\u001b[1;32m   1984\u001b[0m             \u001b[0;32mreturn\u001b[0m \u001b[0mStratifiedKFold\u001b[0m\u001b[0;34m(\u001b[0m\u001b[0mcv\u001b[0m\u001b[0;34m)\u001b[0m\u001b[0;34m\u001b[0m\u001b[0;34m\u001b[0m\u001b[0m\n\u001b[1;32m   1985\u001b[0m         \u001b[0;32melse\u001b[0m\u001b[0;34m:\u001b[0m\u001b[0;34m\u001b[0m\u001b[0;34m\u001b[0m\u001b[0m\n",
            "\u001b[0;32m/usr/local/lib/python3.6/dist-packages/sklearn/utils/multiclass.py\u001b[0m in \u001b[0;36mtype_of_target\u001b[0;34m(y)\u001b[0m\n\u001b[1;32m    258\u001b[0m         if (not hasattr(y[0], '__array__') and isinstance(y[0], Sequence)\n\u001b[1;32m    259\u001b[0m                 and not isinstance(y[0], str)):\n\u001b[0;32m--> 260\u001b[0;31m             raise ValueError('You appear to be using a legacy multi-label data'\n\u001b[0m\u001b[1;32m    261\u001b[0m                              \u001b[0;34m' representation. Sequence of sequences are no'\u001b[0m\u001b[0;34m\u001b[0m\u001b[0;34m\u001b[0m\u001b[0m\n\u001b[1;32m    262\u001b[0m                              \u001b[0;34m' longer supported; use a binary array or sparse'\u001b[0m\u001b[0;34m\u001b[0m\u001b[0;34m\u001b[0m\u001b[0m\n",
            "\u001b[0;31mValueError\u001b[0m: You appear to be using a legacy multi-label data representation. Sequence of sequences are no longer supported; use a binary array or sparse matrix instead - the MultiLabelBinarizer transformer can convert to this format."
          ]
        }
      ]
    }
  ]
}
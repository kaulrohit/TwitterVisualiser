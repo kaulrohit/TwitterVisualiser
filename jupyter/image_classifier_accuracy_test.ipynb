{
 "cells": [
  {
   "cell_type": "code",
   "execution_count": 1,
   "metadata": {},
   "outputs": [],
   "source": [
    "import pandas as pd\n",
    "import numpy as np\n",
    "import ast\n",
    "\n",
    "data_classes = ['high_crime','low_crime','no_crime']"
   ]
  },
  {
   "cell_type": "code",
   "execution_count": 2,
   "metadata": {},
   "outputs": [],
   "source": [
    "df = pd.read_csv('fastai_resnet18_70_training_result.csv')\n",
    "df.head()\n",
    "\n",
    "y_true = df['y_true'].apply(ast.literal_eval)\n",
    "y_pred = df['y_pred'].apply(ast.literal_eval)"
   ]
  },
  {
   "cell_type": "code",
   "execution_count": 3,
   "metadata": {},
   "outputs": [],
   "source": [
    "def confusion_matrix(y_true,y_pred):\n",
    "    tp,fp,tn,fn = 0,0,0,0\n",
    "    if y_true == 1 and y_pred == 1:\n",
    "#         print('tp')\n",
    "        tp = 1\n",
    "    elif y_true == 0 and y_pred == 1:\n",
    "#         print('fp')\n",
    "        fp = 1\n",
    "    elif y_true == 1 and y_pred == 0:\n",
    "#         print('fn')\n",
    "        fn = 1\n",
    "    elif y_true == 0 and y_pred == 0:\n",
    "#         print('tn')\n",
    "        tn = 1\n",
    "    return tp,fp,tn,fn"
   ]
  },
  {
   "cell_type": "code",
   "execution_count": 4,
   "metadata": {},
   "outputs": [],
   "source": [
    "def classification_result(y_true,y_pred):\n",
    "    tp,fp,tn,fn = np.zeros([3],dtype=int), np.zeros([3],dtype=int), np.zeros([3],dtype=int), np.zeros([3],dtype=int)\n",
    "    for data_class in range(3):\n",
    "        for i in range(len(y_true)):\n",
    "            tp_temp,fp_temp,tn_temp,fn_temp = confusion_matrix(y_true[i][data_class],int(y_pred[i][data_class]))\n",
    "            tp[data_class] = tp[data_class] + tp_temp\n",
    "            fp[data_class] = fp[data_class] + fp_temp\n",
    "            tn[data_class] = tn[data_class] + tn_temp\n",
    "            fn[data_class] = fn[data_class] + fn_temp\n",
    "#             print(y_true[i][data_class],int(y_pred[i][data_class]))\n",
    "    return tp,fp,tn,fn"
   ]
  },
  {
   "cell_type": "code",
   "execution_count": 5,
   "metadata": {},
   "outputs": [],
   "source": [
    "def precision_recall(tp,fp,tn,fn):\n",
    "    precision = (tp/(tp + fp))\n",
    "    recall = (tp/(tp + fn))\n",
    "    accuracy  = (tp+fp)/(tp+fp+tn+fn)\n",
    "    f1_score = (2*precision*recall)/(precision+recall)\n",
    "    return precision, recall,accuracy,f1_score\n",
    "    "
   ]
  },
  {
   "cell_type": "code",
   "execution_count": 6,
   "metadata": {},
   "outputs": [
    {
     "name": "stdout",
     "output_type": "stream",
     "text": [
      "type \t\t precision \t\t recall \t\t accuracy \t\t f1_score\n",
      "high_crime \t: 0.603448275862069 \t 0.9144893111638955 \t 0.3233654333502281 \t 0.7271010387157695\n",
      "low_crime \t: 0.5417789757412399 \t 0.8445378151260504 \t 0.1880385200202737 \t 0.6600985221674878\n",
      "no_crime \t: 0.8603089321692411 \t 0.9748858447488584 \t 0.7546882919412062 \t 0.9140206921155903\n"
     ]
    }
   ],
   "source": [
    "tp,fp,tn,fn = classification_result(y_true,y_pred)\n",
    "print('type \\t\\t precision \\t\\t recall \\t\\t accuracy \\t\\t f1_score')\n",
    "for data_class in range(3):\n",
    "    precision, recall, accuracy, f1_score = precision_recall(tp[data_class],fp[data_class],tn[data_class],fn[data_class])\n",
    "    print(data_classes[data_class],\"\\t:\",precision,'\\t', recall,'\\t', accuracy,'\\t', f1_score)"
   ]
  },
  {
   "cell_type": "code",
   "execution_count": null,
   "metadata": {},
   "outputs": [],
   "source": []
  },
  {
   "cell_type": "code",
   "execution_count": null,
   "metadata": {},
   "outputs": [],
   "source": []
  }
 ],
 "metadata": {
  "kernelspec": {
   "display_name": "test",
   "language": "python",
   "name": "test"
  },
  "language_info": {
   "codemirror_mode": {
    "name": "ipython",
    "version": 3
   },
   "file_extension": ".py",
   "mimetype": "text/x-python",
   "name": "python",
   "nbconvert_exporter": "python",
   "pygments_lexer": "ipython3",
   "version": "3.6.8"
  }
 },
 "nbformat": 4,
 "nbformat_minor": 2
}

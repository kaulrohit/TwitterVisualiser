{
  "nbformat": 4,
  "nbformat_minor": 0,
  "metadata": {
    "colab": {
      "name": "combined_model.ipynb",
      "provenance": [],
      "collapsed_sections": []
    },
    "kernelspec": {
      "name": "python3",
      "display_name": "Python 3"
    }
  },
  "cells": [
    {
      "cell_type": "code",
      "metadata": {
        "id": "eP1ElsqbpX5T",
        "colab_type": "code",
        "colab": {}
      },
      "source": [
        "from sklearn import svm\n",
        "import pandas as pd\n",
        "import numpy as np\n",
        "import ast\n",
        "import pickle"
      ],
      "execution_count": 0,
      "outputs": []
    },
    {
      "cell_type": "code",
      "metadata": {
        "id": "yWtxkH4Appnq",
        "colab_type": "code",
        "colab": {}
      },
      "source": [
        "from google.colab import drive\n",
        "drive.mount('/content/gdrive')"
      ],
      "execution_count": 0,
      "outputs": []
    },
    {
      "cell_type": "code",
      "metadata": {
        "id": "6_wTGPu7zNOV",
        "colab_type": "code",
        "colab": {}
      },
      "source": [
        "data_classes = ['high_crime','low_crime','no_crime']"
      ],
      "execution_count": 0,
      "outputs": []
    },
    {
      "cell_type": "code",
      "metadata": {
        "id": "sXDQq0TypwLy",
        "colab_type": "code",
        "outputId": "1db79665-b840-421e-ea4a-a201b05f4825",
        "colab": {
          "base_uri": "https://localhost:8080/",
          "height": 206
        }
      },
      "source": [
        "df = pd.read_csv(\"/content/gdrive/My Drive/Colab Notebooks/combined_pred.csv\")\n",
        "rekog_preds = df['rekog_pred']\n",
        "recok_image_id = df['image_id']\n",
        "y_true_lable = df['y_true']\n",
        "rekog_prob = df['rekog_prob'].apply(ast.literal_eval)\n",
        "df.head()"
      ],
      "execution_count": 0,
      "outputs": [
        {
          "output_type": "execute_result",
          "data": {
            "text/html": [
              "<div>\n",
              "<style scoped>\n",
              "    .dataframe tbody tr th:only-of-type {\n",
              "        vertical-align: middle;\n",
              "    }\n",
              "\n",
              "    .dataframe tbody tr th {\n",
              "        vertical-align: top;\n",
              "    }\n",
              "\n",
              "    .dataframe thead th {\n",
              "        text-align: right;\n",
              "    }\n",
              "</style>\n",
              "<table border=\"1\" class=\"dataframe\">\n",
              "  <thead>\n",
              "    <tr style=\"text-align: right;\">\n",
              "      <th></th>\n",
              "      <th>image_id</th>\n",
              "      <th>y_true</th>\n",
              "      <th>rekog_pred</th>\n",
              "      <th>rekog_prob</th>\n",
              "    </tr>\n",
              "  </thead>\n",
              "  <tbody>\n",
              "    <tr>\n",
              "      <th>0</th>\n",
              "      <td>a1f0fd29e6ae9a8618baac0a27e13676e192ee03c38e79...</td>\n",
              "      <td>HighCrime</td>\n",
              "      <td>HighCrime</td>\n",
              "      <td>[0.9994573468578152, 5.315951564895016e-09, 0....</td>\n",
              "    </tr>\n",
              "    <tr>\n",
              "      <th>1</th>\n",
              "      <td>68934fb5c279c38cda8e88fa67d2d6a664ec3fefac0793...</td>\n",
              "      <td>NoCrime</td>\n",
              "      <td>NoCrime</td>\n",
              "      <td>[0.003945948949745179, 0.026098010084206702, 0...</td>\n",
              "    </tr>\n",
              "    <tr>\n",
              "      <th>2</th>\n",
              "      <td>73e74e658d83ec20d35cf16ce461b9538ecdc59ea70ff8...</td>\n",
              "      <td>NoCrime</td>\n",
              "      <td>NoCrime</td>\n",
              "      <td>[0.01228890124602555, 1.1865378451731604e-06, ...</td>\n",
              "    </tr>\n",
              "    <tr>\n",
              "      <th>3</th>\n",
              "      <td>676508fcd73d674bac82600e02b5d58a562a7493046baf...</td>\n",
              "      <td>NoCrime</td>\n",
              "      <td>NoCrime</td>\n",
              "      <td>[0.024695431414419152, 0.0011542972092025909, ...</td>\n",
              "    </tr>\n",
              "    <tr>\n",
              "      <th>4</th>\n",
              "      <td>7a6c29f171fe6d3b550f24d7650c229e298c67fc2bbef3...</td>\n",
              "      <td>NoCrime</td>\n",
              "      <td>NoCrime</td>\n",
              "      <td>[0.00011153877314141146, 1.3805475472947983e-0...</td>\n",
              "    </tr>\n",
              "  </tbody>\n",
              "</table>\n",
              "</div>"
            ],
            "text/plain": [
              "                                            image_id  ...                                         rekog_prob\n",
              "0  a1f0fd29e6ae9a8618baac0a27e13676e192ee03c38e79...  ...  [0.9994573468578152, 5.315951564895016e-09, 0....\n",
              "1  68934fb5c279c38cda8e88fa67d2d6a664ec3fefac0793...  ...  [0.003945948949745179, 0.026098010084206702, 0...\n",
              "2  73e74e658d83ec20d35cf16ce461b9538ecdc59ea70ff8...  ...  [0.01228890124602555, 1.1865378451731604e-06, ...\n",
              "3  676508fcd73d674bac82600e02b5d58a562a7493046baf...  ...  [0.024695431414419152, 0.0011542972092025909, ...\n",
              "4  7a6c29f171fe6d3b550f24d7650c229e298c67fc2bbef3...  ...  [0.00011153877314141146, 1.3805475472947983e-0...\n",
              "\n",
              "[5 rows x 4 columns]"
            ]
          },
          "metadata": {
            "tags": []
          },
          "execution_count": 10
        }
      ]
    },
    {
      "cell_type": "code",
      "metadata": {
        "id": "AOznv-4ruKFE",
        "colab_type": "code",
        "colab": {}
      },
      "source": [
        "rekog_pred_val = []\n",
        "for rekog_pred in rekog_preds:\n",
        "    rekog_pred_val.append(rekog_pred.split())"
      ],
      "execution_count": 0,
      "outputs": []
    },
    {
      "cell_type": "code",
      "metadata": {
        "id": "H-6KIFMZpwOn",
        "colab_type": "code",
        "colab": {}
      },
      "source": [
        "from sklearn.preprocessing import MultiLabelBinarizer\n",
        "\n",
        "one_hot = MultiLabelBinarizer()\n",
        "y_pred_rekog = one_hot.fit_transform(rekog_pred_val)\n"
      ],
      "execution_count": 0,
      "outputs": []
    },
    {
      "cell_type": "code",
      "metadata": {
        "id": "RBoR2m1hpwQj",
        "colab_type": "code",
        "outputId": "a1a95083-9f52-4504-d7c7-50de0afb7a71",
        "colab": {
          "base_uri": "https://localhost:8080/",
          "height": 206
        }
      },
      "source": [
        "image_df = pd.read_csv('/content/gdrive/My Drive/Colab Notebooks/fastai_resnet18_70_training_result.csv')\n",
        "image_df = image_df[pd.notnull(image_df['object_labels'])]\n",
        "y_pred = image_df['y_pred'].apply(ast.literal_eval)\n",
        "y_true = image_df['y_true'].apply(ast.literal_eval)\n",
        "y_pred_prob = image_df['y_pred_prob'].apply(ast.literal_eval)\n",
        "\n",
        "image_df.head()"
      ],
      "execution_count": 0,
      "outputs": [
        {
          "output_type": "execute_result",
          "data": {
            "text/html": [
              "<div>\n",
              "<style scoped>\n",
              "    .dataframe tbody tr th:only-of-type {\n",
              "        vertical-align: middle;\n",
              "    }\n",
              "\n",
              "    .dataframe tbody tr th {\n",
              "        vertical-align: top;\n",
              "    }\n",
              "\n",
              "    .dataframe thead th {\n",
              "        text-align: right;\n",
              "    }\n",
              "</style>\n",
              "<table border=\"1\" class=\"dataframe\">\n",
              "  <thead>\n",
              "    <tr style=\"text-align: right;\">\n",
              "      <th></th>\n",
              "      <th>id</th>\n",
              "      <th>y_true</th>\n",
              "      <th>y_pred</th>\n",
              "      <th>y_pred_prob</th>\n",
              "      <th>object_labels</th>\n",
              "    </tr>\n",
              "  </thead>\n",
              "  <tbody>\n",
              "    <tr>\n",
              "      <th>0</th>\n",
              "      <td>a1f0fd29e6ae9a8618baac0a27e13676e192ee03c38e79...</td>\n",
              "      <td>[1, 0, 0]</td>\n",
              "      <td>[1.0, 0.0, 0.0]</td>\n",
              "      <td>[0.8746466, 0.02755347, 0.08695286]</td>\n",
              "      <td>Human,Person,Gun,Weapon,Weaponry,Military,Mili...</td>\n",
              "    </tr>\n",
              "    <tr>\n",
              "      <th>1</th>\n",
              "      <td>68934fb5c279c38cda8e88fa67d2d6a664ec3fefac0793...</td>\n",
              "      <td>[0, 0, 1]</td>\n",
              "      <td>[0.0, 0.0, 1.0]</td>\n",
              "      <td>[0.03033742, 0.06771197, 0.8814333]</td>\n",
              "      <td>Human,Person,Art,Automobile,Transportation,Veh...</td>\n",
              "    </tr>\n",
              "    <tr>\n",
              "      <th>2</th>\n",
              "      <td>73e74e658d83ec20d35cf16ce461b9538ecdc59ea70ff8...</td>\n",
              "      <td>[0, 0, 1]</td>\n",
              "      <td>[0.0, 0.0, 1.0]</td>\n",
              "      <td>[0.1415521, 0.08210678, 0.7961538]</td>\n",
              "      <td>Plot,Text,Diagram,Number,Symbol,Page,Document,...</td>\n",
              "    </tr>\n",
              "    <tr>\n",
              "      <th>3</th>\n",
              "      <td>676508fcd73d674bac82600e02b5d58a562a7493046baf...</td>\n",
              "      <td>[0, 0, 1]</td>\n",
              "      <td>[0.0, 0.0, 1.0]</td>\n",
              "      <td>[0.02073421, 0.004477706, 0.9702271]</td>\n",
              "      <td>Text,Poster,Advertisement,Handwriting,Word</td>\n",
              "    </tr>\n",
              "    <tr>\n",
              "      <th>4</th>\n",
              "      <td>7a6c29f171fe6d3b550f24d7650c229e298c67fc2bbef3...</td>\n",
              "      <td>[0, 0, 1]</td>\n",
              "      <td>[0.0, 0.0, 1.0]</td>\n",
              "      <td>[0.03509314, 0.00011819219, 0.98366]</td>\n",
              "      <td>Human,Person,Face,Crowd,Audience,Speech,Finger...</td>\n",
              "    </tr>\n",
              "  </tbody>\n",
              "</table>\n",
              "</div>"
            ],
            "text/plain": [
              "                                                  id  ...                                      object_labels\n",
              "0  a1f0fd29e6ae9a8618baac0a27e13676e192ee03c38e79...  ...  Human,Person,Gun,Weapon,Weaponry,Military,Mili...\n",
              "1  68934fb5c279c38cda8e88fa67d2d6a664ec3fefac0793...  ...  Human,Person,Art,Automobile,Transportation,Veh...\n",
              "2  73e74e658d83ec20d35cf16ce461b9538ecdc59ea70ff8...  ...  Plot,Text,Diagram,Number,Symbol,Page,Document,...\n",
              "3  676508fcd73d674bac82600e02b5d58a562a7493046baf...  ...         Text,Poster,Advertisement,Handwriting,Word\n",
              "4  7a6c29f171fe6d3b550f24d7650c229e298c67fc2bbef3...  ...  Human,Person,Face,Crowd,Audience,Speech,Finger...\n",
              "\n",
              "[5 rows x 5 columns]"
            ]
          },
          "metadata": {
            "tags": []
          },
          "execution_count": 12
        }
      ]
    },
    {
      "cell_type": "code",
      "metadata": {
        "id": "56K_ii3tpwS6",
        "colab_type": "code",
        "colab": {}
      },
      "source": [
        "y_pred_image = [list(map(int,i)) for i in y_pred]"
      ],
      "execution_count": 0,
      "outputs": []
    },
    {
      "cell_type": "code",
      "metadata": {
        "id": "2Ek0n8LWzpl3",
        "colab_type": "code",
        "outputId": "3ac19cc9-f78d-4556-c542-f630e0d7b45a",
        "colab": {
          "base_uri": "https://localhost:8080/",
          "height": 34
        }
      },
      "source": [
        "len(y_pred_prob)"
      ],
      "execution_count": 0,
      "outputs": [
        {
          "output_type": "execute_result",
          "data": {
            "text/plain": [
              "1971"
            ]
          },
          "metadata": {
            "tags": []
          },
          "execution_count": 9
        }
      ]
    },
    {
      "cell_type": "code",
      "metadata": {
        "id": "1boB_3-qpwVD",
        "colab_type": "code",
        "colab": {}
      },
      "source": [
        "train_x = []\n",
        "\n",
        "for i,values in enumerate(y_pred_image):\n",
        "  combined = np.vstack((values, y_pred_rekog[i])).T\n",
        "  train_x.append(combined)"
      ],
      "execution_count": 0,
      "outputs": []
    },
    {
      "cell_type": "code",
      "metadata": {
        "id": "X4xRyS9bIq-V",
        "colab_type": "code",
        "colab": {}
      },
      "source": [
        "for test in rekog_prob:\n",
        "  if (np.array(test).shape[0]) is not 3:\n",
        "    print('failed')"
      ],
      "execution_count": 0,
      "outputs": []
    },
    {
      "cell_type": "code",
      "metadata": {
        "id": "0tTLEx47MEYb",
        "colab_type": "code",
        "outputId": "ef56e8c1-d731-4635-bf63-048890f90636",
        "colab": {
          "base_uri": "https://localhost:8080/",
          "height": 34
        }
      },
      "source": [
        "rekog_prob.shape"
      ],
      "execution_count": 0,
      "outputs": [
        {
          "output_type": "execute_result",
          "data": {
            "text/plain": [
              "(1971,)"
            ]
          },
          "metadata": {
            "tags": []
          },
          "execution_count": 34
        }
      ]
    },
    {
      "cell_type": "code",
      "metadata": {
        "id": "w_C8dyRCITfF",
        "colab_type": "code",
        "colab": {}
      },
      "source": [
        "train_x_prob = []\n",
        "\n",
        "for i,values in enumerate(y_pred_prob):\n",
        "  combined = np.vstack((values, rekog_prob[i])).T\n",
        "  train_x_prob.append(combined)"
      ],
      "execution_count": 0,
      "outputs": []
    },
    {
      "cell_type": "code",
      "metadata": {
        "id": "u-WVrl7n3pTC",
        "colab_type": "code",
        "colab": {}
      },
      "source": [
        "train_x = np.array(train_x)"
      ],
      "execution_count": 0,
      "outputs": []
    },
    {
      "cell_type": "code",
      "metadata": {
        "id": "pd2FBWzWNN5X",
        "colab_type": "code",
        "colab": {}
      },
      "source": [
        "train_x_prob = np.array(train_x_prob)"
      ],
      "execution_count": 0,
      "outputs": []
    },
    {
      "cell_type": "code",
      "metadata": {
        "id": "FCzxRjtYW2ix",
        "colab_type": "code",
        "outputId": "8339975c-b068-401e-9c82-b79597ff5f4a",
        "colab": {
          "base_uri": "https://localhost:8080/",
          "height": 34
        }
      },
      "source": [
        "train_x.shape"
      ],
      "execution_count": 0,
      "outputs": [
        {
          "output_type": "execute_result",
          "data": {
            "text/plain": [
              "(1971, 3, 2)"
            ]
          },
          "metadata": {
            "tags": []
          },
          "execution_count": 41
        }
      ]
    },
    {
      "cell_type": "code",
      "metadata": {
        "id": "ShGAdIPi3iNV",
        "colab_type": "code",
        "colab": {}
      },
      "source": [
        "nsamples, nx, ny = train_x.shape\n",
        "d2_train_dataset = train_x.reshape((nsamples,nx*ny))"
      ],
      "execution_count": 0,
      "outputs": []
    },
    {
      "cell_type": "code",
      "metadata": {
        "id": "4p9GiO_yNZFC",
        "colab_type": "code",
        "colab": {}
      },
      "source": [
        "nsamples, nx, ny = train_x_prob.shape\n",
        "d2_train_dataset_prob = train_x_prob.reshape((nsamples,nx*ny))"
      ],
      "execution_count": 0,
      "outputs": []
    },
    {
      "cell_type": "code",
      "metadata": {
        "id": "LZvyYPj8W6o1",
        "colab_type": "code",
        "outputId": "a0123409-282b-4f41-db12-ce1561ee0603",
        "colab": {
          "base_uri": "https://localhost:8080/",
          "height": 34
        }
      },
      "source": [
        "d2_train_dataset.shape"
      ],
      "execution_count": 0,
      "outputs": [
        {
          "output_type": "execute_result",
          "data": {
            "text/plain": [
              "(1971, 6)"
            ]
          },
          "metadata": {
            "tags": []
          },
          "execution_count": 44
        }
      ]
    },
    {
      "cell_type": "code",
      "metadata": {
        "id": "U7nbqkQzwp8S",
        "colab_type": "code",
        "outputId": "0269a616-d53d-487b-94d8-4fad57c7dd8d",
        "colab": {
          "base_uri": "https://localhost:8080/",
          "height": 141
        }
      },
      "source": [
        "clf = svm.SVC(probability=True)\n",
        "\n",
        "# clf.fit(X, y) \n",
        "clf.fit(d2_train_dataset_prob, np.array(y_true_lable)) "
      ],
      "execution_count": 0,
      "outputs": [
        {
          "output_type": "stream",
          "text": [
            "/usr/local/lib/python3.6/dist-packages/sklearn/svm/base.py:193: FutureWarning: The default value of gamma will change from 'auto' to 'scale' in version 0.22 to account better for unscaled features. Set gamma explicitly to 'auto' or 'scale' to avoid this warning.\n",
            "  \"avoid this warning.\", FutureWarning)\n"
          ],
          "name": "stderr"
        },
        {
          "output_type": "execute_result",
          "data": {
            "text/plain": [
              "SVC(C=1.0, cache_size=200, class_weight=None, coef0=0.0,\n",
              "    decision_function_shape='ovr', degree=3, gamma='auto_deprecated',\n",
              "    kernel='rbf', max_iter=-1, probability=True, random_state=None,\n",
              "    shrinking=True, tol=0.001, verbose=False)"
            ]
          },
          "metadata": {
            "tags": []
          },
          "execution_count": 46
        }
      ]
    },
    {
      "cell_type": "code",
      "metadata": {
        "id": "dZFHfL0yFBKL",
        "colab_type": "code",
        "colab": {}
      },
      "source": [
        "filename = '/content/gdrive/My Drive/Colab Notebooks/svm_prob.pkl'\n",
        "pickle.dump(clf, open(filename, 'wb'))"
      ],
      "execution_count": 0,
      "outputs": []
    },
    {
      "cell_type": "code",
      "metadata": {
        "id": "vYFOTK_v5Da-",
        "colab_type": "code",
        "colab": {}
      },
      "source": [
        "from sklearn.multiclass import OneVsRestClassifier\n",
        "from xgboost import XGBClassifier\n",
        "\n",
        "clf = OneVsRestClassifier(XGBClassifier(n_jobs=-1, max_depth=4))\n",
        "\n"
      ],
      "execution_count": 0,
      "outputs": []
    },
    {
      "cell_type": "code",
      "metadata": {
        "id": "cZrybHFr2kCR",
        "colab_type": "code",
        "outputId": "ba63d205-4059-4d2b-874d-4b2065999260",
        "colab": {
          "base_uri": "https://localhost:8080/",
          "height": 260
        }
      },
      "source": [
        "clf.fit(d2_train_dataset, np.array(y_true_lable)) "
      ],
      "execution_count": 0,
      "outputs": [
        {
          "output_type": "execute_result",
          "data": {
            "text/plain": [
              "OneVsRestClassifier(estimator=XGBClassifier(base_score=0.5, booster='gbtree',\n",
              "                                            colsample_bylevel=1,\n",
              "                                            colsample_bynode=1,\n",
              "                                            colsample_bytree=1, gamma=0,\n",
              "                                            learning_rate=0.1, max_delta_step=0,\n",
              "                                            max_depth=4, min_child_weight=1,\n",
              "                                            missing=None, n_estimators=100,\n",
              "                                            n_jobs=-1, nthread=None,\n",
              "                                            objective='binary:logistic',\n",
              "                                            random_state=0, reg_alpha=0,\n",
              "                                            reg_lambda=1, scale_pos_weight=1,\n",
              "                                            seed=None, silent=None, subsample=1,\n",
              "                                            verbosity=1),\n",
              "                    n_jobs=None)"
            ]
          },
          "metadata": {
            "tags": []
          },
          "execution_count": 96
        }
      ]
    },
    {
      "cell_type": "code",
      "metadata": {
        "id": "eMxxodt_aH-1",
        "colab_type": "code",
        "outputId": "dbdd187c-035b-4a56-afb3-7e0e322ee05a",
        "colab": {
          "base_uri": "https://localhost:8080/",
          "height": 34
        }
      },
      "source": [
        "clf.predict_proba([[0,1,0,0,0,1]])"
      ],
      "execution_count": 0,
      "outputs": [
        {
          "output_type": "execute_result",
          "data": {
            "text/plain": [
              "array([[0.63350904, 0.13089555, 0.23559541]])"
            ]
          },
          "metadata": {
            "tags": []
          },
          "execution_count": 53
        }
      ]
    },
    {
      "cell_type": "code",
      "metadata": {
        "id": "jCapRVTPfxGO",
        "colab_type": "code",
        "colab": {}
      },
      "source": [
        ""
      ],
      "execution_count": 0,
      "outputs": []
    }
  ]
}
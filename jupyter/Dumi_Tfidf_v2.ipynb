{
  "nbformat": 4,
  "nbformat_minor": 0,
  "metadata": {
    "colab": {
      "name": "Dumi Tfidf v2.ipynb",
      "provenance": [],
      "collapsed_sections": [],
      "toc_visible": true
    },
    "kernelspec": {
      "name": "python3",
      "display_name": "Python 3"
    }
  },
  "cells": [
    {
      "cell_type": "markdown",
      "metadata": {
        "id": "PC98-ehpG_Sf",
        "colab_type": "text"
      },
      "source": [
        "# Multiple Classifer Comparision using Term frequency-inverse document frequency(TF-IDF) weights to train model\n",
        "*adapted using https://towardsdatascience.com/multi-class-text-classification-with-scikit-learn-12f1e60e0a9f*"
      ]
    },
    {
      "cell_type": "code",
      "metadata": {
        "id": "8DfEc4uzEx3Q",
        "colab_type": "code",
        "colab": {}
      },
      "source": [
        "%matplotlib inline\n",
        "import re\n",
        "import enum\n",
        "import matplotlib\n",
        "import numpy as np\n",
        "import matplotlib.pyplot as plt\n",
        "import pandas as pd\n",
        "from sklearn.model_selection import train_test_split\n",
        "from sklearn.feature_extraction.text import TfidfVectorizer\n",
        "from sklearn.naive_bayes import MultinomialNB\n",
        "from sklearn.metrics import accuracy_score\n",
        "from sklearn.multiclass import OneVsRestClassifier\n",
        "from sklearn.svm import LinearSVC\n",
        "from sklearn.linear_model import LogisticRegression\n",
        "from sklearn.pipeline import Pipeline\n",
        "import seaborn as sns\n",
        "import json\n",
        "from pprint import pprint\n",
        "import csv\n",
        "from ast import literal_eval\n"
      ],
      "execution_count": 0,
      "outputs": []
    },
    {
      "cell_type": "code",
      "metadata": {
        "id": "g6f0z9yv5BHI",
        "colab_type": "code",
        "outputId": "5d91e2df-6f6c-4422-b901-ce0696967e57",
        "colab": {
          "base_uri": "https://localhost:8080/",
          "height": 120
        }
      },
      "source": [
        "from google.colab import drive\n",
        "drive.mount('/content/drive')"
      ],
      "execution_count": 0,
      "outputs": [
        {
          "output_type": "stream",
          "text": [
            "Go to this URL in a browser: https://accounts.google.com/o/oauth2/auth?client_id=947318989803-6bn6qk8qdgf4n4g3pfee6491hc0brc4i.apps.googleusercontent.com&redirect_uri=urn%3Aietf%3Awg%3Aoauth%3A2.0%3Aoob&scope=email%20https%3A%2F%2Fwww.googleapis.com%2Fauth%2Fdocs.test%20https%3A%2F%2Fwww.googleapis.com%2Fauth%2Fdrive%20https%3A%2F%2Fwww.googleapis.com%2Fauth%2Fdrive.photos.readonly%20https%3A%2F%2Fwww.googleapis.com%2Fauth%2Fpeopleapi.readonly&response_type=code\n",
            "\n",
            "Enter your authorization code:\n",
            "··········\n",
            "Mounted at /content/drive\n"
          ],
          "name": "stdout"
        }
      ]
    },
    {
      "cell_type": "code",
      "metadata": {
        "id": "vwvLNdWLXC2X",
        "colab_type": "code",
        "outputId": "096f2ff7-160c-4a0d-9741-0be8acc452a0",
        "colab": {
          "base_uri": "https://localhost:8080/",
          "height": 197
        }
      },
      "source": [
        "# df = pd.read_csv('/content/drive/My Drive/Colab Notebooks/cleaned_trinary.csv')\n",
        "df = pd.read_csv('/content/drive/My Drive/Colab Notebooks/cleaned_trinary_training_70.csv')\n",
        "# df.tags = df.tags.apply(literal_eval)\n",
        "\n",
        "df_test = pd.read_csv('/content/drive/My Drive/Colab Notebooks/cleaned_trinary_test_30.csv')\n",
        "df.head()"
      ],
      "execution_count": 0,
      "outputs": [
        {
          "output_type": "execute_result",
          "data": {
            "text/html": [
              "<div>\n",
              "<style scoped>\n",
              "    .dataframe tbody tr th:only-of-type {\n",
              "        vertical-align: middle;\n",
              "    }\n",
              "\n",
              "    .dataframe tbody tr th {\n",
              "        vertical-align: top;\n",
              "    }\n",
              "\n",
              "    .dataframe thead th {\n",
              "        text-align: right;\n",
              "    }\n",
              "</style>\n",
              "<table border=\"1\" class=\"dataframe\">\n",
              "  <thead>\n",
              "    <tr style=\"text-align: right;\">\n",
              "      <th></th>\n",
              "      <th>id</th>\n",
              "      <th>tags</th>\n",
              "      <th>object_labels</th>\n",
              "    </tr>\n",
              "  </thead>\n",
              "  <tbody>\n",
              "    <tr>\n",
              "      <th>0</th>\n",
              "      <td>a1f0fd29e6ae9a8618baac0a27e13676e192ee03c38e79...</td>\n",
              "      <td>HighCrime</td>\n",
              "      <td>Human,Person,Gun,Weapon,Weaponry,Military,Mili...</td>\n",
              "    </tr>\n",
              "    <tr>\n",
              "      <th>1</th>\n",
              "      <td>68934fb5c279c38cda8e88fa67d2d6a664ec3fefac0793...</td>\n",
              "      <td>NoCrime</td>\n",
              "      <td>Human,Person,Art,Automobile,Transportation,Veh...</td>\n",
              "    </tr>\n",
              "    <tr>\n",
              "      <th>2</th>\n",
              "      <td>73e74e658d83ec20d35cf16ce461b9538ecdc59ea70ff8...</td>\n",
              "      <td>NoCrime</td>\n",
              "      <td>Plot,Text,Diagram,Number,Symbol,Page,Document,...</td>\n",
              "    </tr>\n",
              "    <tr>\n",
              "      <th>3</th>\n",
              "      <td>676508fcd73d674bac82600e02b5d58a562a7493046baf...</td>\n",
              "      <td>NoCrime</td>\n",
              "      <td>Text,Poster,Advertisement,Handwriting,Word</td>\n",
              "    </tr>\n",
              "    <tr>\n",
              "      <th>4</th>\n",
              "      <td>7a6c29f171fe6d3b550f24d7650c229e298c67fc2bbef3...</td>\n",
              "      <td>NoCrime</td>\n",
              "      <td>Human,Person,Face,Crowd,Audience,Speech,Finger...</td>\n",
              "    </tr>\n",
              "  </tbody>\n",
              "</table>\n",
              "</div>"
            ],
            "text/plain": [
              "                                                  id  ...                                      object_labels\n",
              "0  a1f0fd29e6ae9a8618baac0a27e13676e192ee03c38e79...  ...  Human,Person,Gun,Weapon,Weaponry,Military,Mili...\n",
              "1  68934fb5c279c38cda8e88fa67d2d6a664ec3fefac0793...  ...  Human,Person,Art,Automobile,Transportation,Veh...\n",
              "2  73e74e658d83ec20d35cf16ce461b9538ecdc59ea70ff8...  ...  Plot,Text,Diagram,Number,Symbol,Page,Document,...\n",
              "3  676508fcd73d674bac82600e02b5d58a562a7493046baf...  ...         Text,Poster,Advertisement,Handwriting,Word\n",
              "4  7a6c29f171fe6d3b550f24d7650c229e298c67fc2bbef3...  ...  Human,Person,Face,Crowd,Audience,Speech,Finger...\n",
              "\n",
              "[5 rows x 3 columns]"
            ]
          },
          "metadata": {
            "tags": []
          },
          "execution_count": 3
        }
      ]
    },
    {
      "cell_type": "code",
      "metadata": {
        "id": "5o4kUsfu5c5K",
        "colab_type": "code",
        "outputId": "fe5d6bca-1d42-4760-c86c-6bb60ff1ba2b",
        "colab": {
          "base_uri": "https://localhost:8080/",
          "height": 560
        }
      },
      "source": [
        "a = pd.Series([item for item in df.tags])\n",
        "df_a = a.value_counts().sort_index().rename_axis('tags').reset_index(name='f')\n",
        "# df_a.head()\n",
        "df_a = df_a.set_index('tags')\n",
        "# df_a.info()\n",
        "\n",
        "plt.subplots(figsize=(18,8))\n",
        "df_a['f'].plot.bar()"
      ],
      "execution_count": 0,
      "outputs": [
        {
          "output_type": "execute_result",
          "data": {
            "text/plain": [
              "<matplotlib.axes._subplots.AxesSubplot at 0x7fe6b7c92c50>"
            ]
          },
          "metadata": {
            "tags": []
          },
          "execution_count": 4
        },
        {
          "output_type": "display_data",
          "data": {
            "image/png": "[encoded data removed]",
            "text/plain": [
              "<Figure size 1296x576 with 1 Axes>"
            ]
          },
          "metadata": {
            "tags": []
          }
        }
      ]
    },
    {
      "cell_type": "code",
      "metadata": {
        "id": "jKh1YqNHUyCb",
        "colab_type": "code",
        "outputId": "87e10d1b-323d-45f2-d240-53b6a0025e49",
        "colab": {
          "base_uri": "https://localhost:8080/",
          "height": 167
        }
      },
      "source": [
        "df_a.head()\n",
        "# df.info()"
      ],
      "execution_count": 0,
      "outputs": [
        {
          "output_type": "execute_result",
          "data": {
            "text/html": [
              "<div>\n",
              "<style scoped>\n",
              "    .dataframe tbody tr th:only-of-type {\n",
              "        vertical-align: middle;\n",
              "    }\n",
              "\n",
              "    .dataframe tbody tr th {\n",
              "        vertical-align: top;\n",
              "    }\n",
              "\n",
              "    .dataframe thead th {\n",
              "        text-align: right;\n",
              "    }\n",
              "</style>\n",
              "<table border=\"1\" class=\"dataframe\">\n",
              "  <thead>\n",
              "    <tr style=\"text-align: right;\">\n",
              "      <th></th>\n",
              "      <th>f</th>\n",
              "    </tr>\n",
              "    <tr>\n",
              "      <th>tags</th>\n",
              "      <th></th>\n",
              "    </tr>\n",
              "  </thead>\n",
              "  <tbody>\n",
              "    <tr>\n",
              "      <th>HighCrime</th>\n",
              "      <td>421</td>\n",
              "    </tr>\n",
              "    <tr>\n",
              "      <th>LowCrime</th>\n",
              "      <td>238</td>\n",
              "    </tr>\n",
              "    <tr>\n",
              "      <th>NoCrime</th>\n",
              "      <td>1314</td>\n",
              "    </tr>\n",
              "  </tbody>\n",
              "</table>\n",
              "</div>"
            ],
            "text/plain": [
              "              f\n",
              "tags           \n",
              "HighCrime   421\n",
              "LowCrime    238\n",
              "NoCrime    1314"
            ]
          },
          "metadata": {
            "tags": []
          },
          "execution_count": 5
        }
      ]
    },
    {
      "cell_type": "markdown",
      "metadata": {
        "id": "RT0b1TbLnmTX",
        "colab_type": "text"
      },
      "source": [
        "### Represent the cateogories using a number"
      ]
    },
    {
      "cell_type": "code",
      "metadata": {
        "id": "EEgPh1ro-na8",
        "colab_type": "code",
        "colab": {}
      },
      "source": [
        "from io import StringIO\n",
        "\n",
        "# Training set\n",
        "col = ['tags_string', 'object_labels']\n",
        "df['tags_string'] = df['tags']\n",
        "\n",
        "df = df[col]\n",
        "df = df[pd.notnull(df['object_labels'])]\n",
        "df.columns = ['tags_string', 'object_labels']\n",
        "df['category_id'] = df['tags_string'].factorize()[0]\n",
        "category_id_df = df[['tags_string', 'category_id']].drop_duplicates().sort_values('category_id')\n",
        "category_to_id = dict(category_id_df.values)\n",
        "id_to_category = dict(category_id_df[['category_id', 'tags_string']].values)\n",
        "df.head()\n",
        "\n",
        "# Test set\n",
        "col = ['tags_string', 'object_labels']\n",
        "df_test['tags_string'] = df_test['tags']\n",
        "\n",
        "df_test = df_test[col]\n",
        "df_test = df_test[pd.notnull(df_test['object_labels'])]\n",
        "df_test.columns = ['tags_string', 'object_labels']\n",
        "df_test['category_id'] = df_test['tags_string'].factorize()[0]\n",
        "category_id_df = df_test[['tags_string', 'category_id']].drop_duplicates().sort_values('category_id')\n",
        "category_to_id = dict(category_id_df.values)\n",
        "id_to_category = dict(category_id_df[['category_id', 'tags_string']].values)\n",
        "\n",
        "# df_test.head()"
      ],
      "execution_count": 0,
      "outputs": []
    },
    {
      "cell_type": "code",
      "metadata": {
        "id": "Sue0e21wfYIa",
        "colab_type": "code",
        "outputId": "18f8023c-6f8b-483c-9426-6db1737fcc03",
        "colab": {
          "base_uri": "https://localhost:8080/",
          "height": 150
        }
      },
      "source": [
        "df_test.info()"
      ],
      "execution_count": 0,
      "outputs": [
        {
          "output_type": "stream",
          "text": [
            "<class 'pandas.core.frame.DataFrame'>\n",
            "Int64Index: 846 entries, 0 to 846\n",
            "Data columns (total 3 columns):\n",
            "tags_string      846 non-null object\n",
            "object_labels    846 non-null object\n",
            "category_id      846 non-null int64\n",
            "dtypes: int64(1), object(2)\n",
            "memory usage: 26.4+ KB\n"
          ],
          "name": "stdout"
        }
      ]
    },
    {
      "cell_type": "code",
      "metadata": {
        "id": "T-lFajaqAq5Q",
        "colab_type": "code",
        "outputId": "eaff9175-cb9c-438e-f837-6412f2807c77",
        "colab": {
          "base_uri": "https://localhost:8080/",
          "height": 36
        }
      },
      "source": [
        "# df.head()\n",
        "# category_id_df\n",
        "print(category_to_id)"
      ],
      "execution_count": 0,
      "outputs": [
        {
          "output_type": "stream",
          "text": [
            "{'HighCrime': 0, 'NoCrime': 1, 'LowCrime': 2}\n"
          ],
          "name": "stdout"
        }
      ]
    },
    {
      "cell_type": "markdown",
      "metadata": {
        "id": "Tf1Y4nvIn25l",
        "colab_type": "text"
      },
      "source": [
        "## Tf-Idf\n",
        "presence (and often the frequency) of words is taken into consideration, but the order in which they occur is ignored."
      ]
    },
    {
      "cell_type": "markdown",
      "metadata": {
        "id": "BV8Ukr64n7MZ",
        "colab_type": "text"
      },
      "source": [
        "- ``sublinear_df`` is set to True to use a logarithmic form for frequency.\n",
        "- ``min_df`` is the minimum numbers of documents a word must be present in to be kept.\n",
        "- ``norm`` is set to l2, to ensure all our feature vectors have a euclidian norm of 1.\n",
        "- ``ngram_range`` is set to (1, 1) to indicate that we want to consider only unigrams."
      ]
    },
    {
      "cell_type": "code",
      "metadata": {
        "id": "8SFHDpurk83U",
        "colab_type": "code",
        "outputId": "e272f2dd-ded4-4d1b-df4a-bbcf26c8e98d",
        "colab": {
          "base_uri": "https://localhost:8080/",
          "height": 36
        }
      },
      "source": [
        "tfidf = TfidfVectorizer(sublinear_tf=True, min_df=1, norm='l2', encoding='latin-1', ngram_range=(1, 1))\n",
        "features = tfidf.fit_transform(df.object_labels).toarray()\n",
        "labels = df.category_id\n",
        "features.shape\n",
        "\n",
        "tfidf_test = TfidfVectorizer(sublinear_tf=True, min_df=1, norm='l2', encoding='latin-1', ngram_range=(1, 1))\n",
        "features_test = tfidf_test.fit_transform(df_test.object_labels).toarray()\n",
        "labels_test = df_test.category_id\n",
        "features_test.shape"
      ],
      "execution_count": 0,
      "outputs": [
        {
          "output_type": "execute_result",
          "data": {
            "text/plain": [
              "(846, 873)"
            ]
          },
          "metadata": {
            "tags": []
          },
          "execution_count": 115
        }
      ]
    },
    {
      "cell_type": "code",
      "metadata": {
        "id": "vpoujCrx-Ljl",
        "colab_type": "code",
        "outputId": "ef36ae06-795b-40e0-a6e9-e33634dc97f6",
        "colab": {
          "base_uri": "https://localhost:8080/",
          "height": 351
        }
      },
      "source": [
        "from sklearn.feature_selection import chi2\n",
        "import numpy as np\n",
        "N = 4\n",
        "\n",
        "for Tags, category_id in sorted(category_to_id.items()):\n",
        "  features_chi2 = chi2(features, labels == category_id)\n",
        "  indices = np.argsort(features_chi2[0])\n",
        "  feature_names = np.array(tfidf.get_feature_names())[indices]\n",
        "  unigrams = [v for v in feature_names if len(v.split(' ')) == 1]\n",
        "  # bigrams = [v for v in feature_names if len(v.split(' ')) == 2]\n",
        "  print(\"# '{}':\".format(Tags))\n",
        "  print(\"  . Most correlated unigrams:\\n. {}\".format('\\n. '.join(unigrams[-N:])))\n",
        "  # print(\"  . Most correlated bigrams:\\n. {}\".format('\\n. '.join(bigrams[-N:])))"
      ],
      "execution_count": 0,
      "outputs": [
        {
          "output_type": "stream",
          "text": [
            "# 'HighCrime':\n",
            "  . Most correlated unigrams:\n",
            ". handgun\n",
            ". gun\n",
            ". weapon\n",
            ". weaponry\n",
            "# 'LowCrime':\n",
            "  . Most correlated unigrams:\n",
            ". demolition\n",
            ". machine\n",
            ". plastic\n",
            ". shop\n",
            "# 'NoCrime':\n",
            "  . Most correlated unigrams:\n",
            ". shop\n",
            ". gun\n",
            ". weaponry\n",
            ". weapon\n"
          ],
          "name": "stdout"
        }
      ]
    },
    {
      "cell_type": "code",
      "metadata": {
        "id": "QaJSe1iEjtKv",
        "colab_type": "code",
        "outputId": "1af4e07c-4011-4709-c66b-00e590308a0d",
        "colab": {
          "base_uri": "https://localhost:8080/",
          "height": 56
        }
      },
      "source": [
        "print(unigrams)"
      ],
      "execution_count": 0,
      "outputs": [
        {
          "output_type": "stream",
          "text": [
            "['terminal', 'hunting', 'boxing', 'bulldozer', 'cosplay', 'dirt', 'gravel', 'pier', 'dock', 'port', 'bridge', 'hand', 'beach', 'coupe', 'marching', 'batman', 'file', 'shipping', 'container', 'landscape', 'tribe', 'ocean', 'vegetable', 'funeral', 'hurricane', 'bicycle', 'bike', 'rise', 'high', 'suv', 'officer', 'rowboat', 'theatre', 'operating', 'paparazzi', 'produce', 'strap', 'sitting', 'shorts', 'cards', 'id', 'rotor', 'outdoors', 'hat', 'barricade', 'measurements', 'railway', 'rail', 'roof', 'tool', 'club', 'cowboy', 'bear', 'pickup', 'hotel', 'traffic', 'hug', 'bird', 'confectionery', 'sweets', 'plywood', 'housing', 'window', 'dance', 'locomotive', 'rainforest', 'painting', 'injury', 'gate', 'downtown', 'laughing', 'skateboard', 'harbor', 'appliance', 'seminar', 'condo', 'grass', 'curtain', 'booth', 'apartment', 'lifejacket', 'musical', 'instrument', 'bonnet', 'storm', 'freeway', 'bouquet', 'station', 'cardboard', 'carton', 'sand', 'swimwear', 'plan', 'buckle', 'ball', 'lobby', 'view', 'aerial', 'advertisement', 'waves', 'tsunami', 'silver', 'meal', 'strike', 'slate', 'tank', 'toy', 'caravan', 'photographer', 'fruit', 'waterfront', 'party', 'plate', 'soccer', 'coast', 'shoreline', 'paddle', 'oars', 'kindergarten', 'goggles', 'land', 'half', 'track', 'hydrofoil', 'tractor', 'wildlife', 'airport', 'villa', 'glove', 'plaid', 'tartan', 'wrist', 'railing', 'water', 'cap', 'judo', 'shelter', 'pillow', 'drink', 'beverage', 'glass', 'fog', 'concrete', 'ambulance', 'arched', 'arch', 'panoramic', 'beak', 'balloon', 'scenery', 'forge', 'design', 'tree', 'lawn', 'yard', 'ballplayer', 'flagstone', 'cyclist', 'food', 'train', 'park', 'pasture', 'meadow', 'grassland', 'bottle', 'animal', 'boardwalk', 'cricket', 'blanket', 'nature', 'classroom', 'zoo', 'planter', 'jungle', 'warehouse', 'manga', 'horizon', 'cloud', 'cumulus', 'hammer', 'highway', 'box', 'poster', 'rock', 'dredger', 'oak', 'den', 'bunker', 'castle', 'lightning', 'thunderstorm', 'fort', 'book', 'wristwatch', 'siding', 'ring', 'bride', 'vest', 'crane', 'pole', 'utility', 'engine', 'steam', 'icing', 'harvest', 'plow', 'geranium', 'rose', 'kilt', 'show', 'wasp', 'hornet', 'anisoptera', 'andrena', 'spider', 'dragonfly', 'arachnid', 'asteraceae', 'air', 'sunflower', 'tub', 'headrest', 'smoothie', 'juice', 'cocktail', 'rust', 'honey', 'seashell', 'clam', 'globe', 'comet', 'planet', 'earth', 'drinking', 'hacienda', 'security', 'arena', 'piste', 'reading', 'skylight', 'horse', 'neighborhood', 'alcohol', 'waterfall', 'nebula', 'fractal', 'snowman', 'goat', 'living', 'dresser', 'cupboard', 'chest', 'sideboard', 'closet', 'medicine', 'peninsula', 'subway', 'karaoke', 'planting', 'latex', 'ferry', 'battleship', 'destroyer', 'bat', 'windshield', 'vacation', 'bunny', 'rabbit', 'knight', 'equestrian', 'trailer', 'conifer', 'gliding', 'glider', 'porch', 'beacon', 'lighthouse', 'brake', 'beanie', 'lesser', 'panda', 'jam', 'pot', 'sari', 'grapefruit', 'orange', 'citrus', 'pomelo', 'rod', 'aquatic', 'brown', 'avalanche', 'french', 'bull', 'boston', 'tourist', 'passport', 'stole', 'propeller', 'island', 'atoll', 'slope', 'temple', 'worship', 'shrine', 'marina', 'bowl', 'oatmeal', 'snack', 'breakfast', 'takeoff', 'countryside', 'bald', 'blackbird', 'agelaius', 'tour', 'cushion', 'runway', 'yacht', 'acrobatic', 'plaque', 'diaper', 'mailbox', 'letterbox', 'cottage', 'plant', 'flood', 'sponge', 'slum', 'interior', 'slow', 'motor', 'mural', 'grain', 'gymnast', 'gymnastics', 'balance', 'beam', 'newfoundland', 'icicle', 'beluga', 'pen', 'earthquake', 'crayon', 'stand', 'night', 'fitness', 'zelda', 'legend', 'assembly', 'line', 'court', 'digital', 'dogsled', 'sled', 'tent', 'penguin', 'shipwreck', 'crystal', 'lace', 'shower', 'rhubarb', 'pizza', 'reed', 'bandage', 'circus', 'gambling', 'van', 'crypt', 'activities', 'leisure', 'chandelier', 'treasure', 'scoreboard', 'deer', 'elk', 'mime', 'clown', 'jeep', 'khaki', 'handbag', 'purse', 'toad', 'amphibian', 'staircase', 'geyser', 'warcraft', 'world', 'leather', 'dentist', 'therapy', 'dj', 'orca', 'killer', 'rural', 'bronze', 'handle', 'pipe', 'aurora', 'bookcase', 'deli', 'wine', 'math', 'hut', 'shack', 'kitten', 'interview', 'antelope', 'trunk', 'torso', 'milk', 'toilet', 'bathroom', 'pop', 'doodle', 'clothes', 'astronaut', 'license', 'dam', 'leash', 'coil', 'spiral', 'lobster', 'seafood', 'crawdad', 'dynamite', 'cinema', 'torpedo', 'arrangement', 'backpack', 'earring', 'postage', 'stamp', 'drill', 'elf', 'scaffolding', 'wheelchair', 'mosquito', 'autograph', 'signature', 'desktop', 'rat', 'hamster', 'obelisk', 'iceberg', 'buoy', 'bandana', 'plush', 'ticket', 'can', 'crown', 'tiara', 'sash', 'ponytail', 'backyard', 'softball', 'cave', 'jellyfish', 'hospital', 'amusement', 'theme', 'injection', 'scooter', 'moped', 'vespa', 'motel', 'pool', 'ampersand', 'diner', 'rope', 'sock', 'bow', 'dune', 'tiger', 'trash', 'bridegroom', 'gardening', 'aisle', 'server', 'spotlight', 'led', 'suspension', 'coffee', 'agriculture', 'nuggets', 'fried', 'crawling', 'sniper', 'balcony', 'flute', 'fossil', 'control', 'spaceship', 'dog', 'raincoat', 'statue', 'sculpture', 'puddle', 'fisheye', 'duty', 'call', 'couch', 'long', 'dryer', 'washer', 'brace', 'fireman', 'bulldog', 'gum', 'chain', 'dining', 'robot', 'grove', 'palm', 'arecaceae', 'rocket', 'dish', 'petal', 'eagle', 'hot', 'ornament', 'suitcase', 'offroad', 'warplane', 'stilts', 'flyer', 'brochure', 'bell', 'cart', 'electric', 'cargo', 'rooster', 'hen', 'cock', 'cathedral', 'shotgun', 'gold', 'hardwood', 'silk', 'birthday', 'team', 'peak', 'spoon', 'cutlery', 'studio', 'fountain', 'cooker', 'coca', 'coke', 'heel', 'landing', 'abies', 'fir', 'hole', 'sea', 'comics', 'skyscraper', 'aquarium', 'helicopter', 'creme', 'cream', 'tombstone', 'tomb', 'basement', 'farm', 'duet', 'music', 'band', 'jury', 'dolphin', 'texting', 'parliament', 'waiting', 'glacier', 'headlight', 'weather', 'spoke', 'guitar', 'inflatable', 'cliff', 'metropolis', 'egg', 'theater', 'carriage', 'wagon', 'plot', 'pencil', 'art', 'jogging', 'compass', 'lady', 'hoodie', 'sandal', 'diary', 'iron', 'shark', 'laser', 'rodent', 'fishing', 'angler', 'skirt', 'whale', 'golf', 'huddle', 'floral', 'cloak', 'musician', 'sailor', 'tortoise', 'palace', 'burger', 'teacher', 'barefoot', 'hangar', 'coin', 'guard', 'wood', 'monument', 'outer', 'astronomy', 'universe', 'protest', 'diagram', 'meeting', 'office', 'bush', 'carnival', 'bomb', 'swimming', 'figurine', 'barge', 'moving', 'soda', 'beagle', 'hound', 'desert', 'tin', 'aluminium', 'percussion', 'drum', 'drummer', 'blackboard', 'tanker', 'freighter', 'washing', 'nurse', 'magnifying', 'bomber', 'canine', 'intersection', 'college', 'fireworks', 'post', 'back', 'school', 'fence', 'blouse', 'boat', 'petrol', 'alley', 'alleyway', 'boot', 'church', 'cockpit', 'forest', 'insect', 'nuclear', 'convention', 'center', 'headset', 'headphones', 'navy', 'cruiser', 'standing', 'poultry', 'fowl', 'garden', 'monastery', 'pose', 'held', 'dessert', 'zebra', 'ship', 'working', 'exercise', 'sleeve', 'calligraphy', 'cabinet', 'doctor', 'lava', 'thumbs', 'up', 'walking', 'turtle', 'power', 'pattern', 'driving', 'money', 'captain', 'message', 'river', 'towel', 'mansion', 'fish', 'blossom', 'library', 'launch', 'sky', 'house', 'credit', 'soil', 'outdoor', 'playground', 'flying', 'doll', 'bee', 'racket', 'wall', 'laptop', 'sunlight', 'jet', 'cake', 'paper', 'parade', 'mallet', 'tablecloth', 'document', 'floor', 'concert', 'woodland', 'alligator', 'crocodile', 'lab', 'shopping', 'potted', 'toe', 'of', 'mammal', 'sedan', 'minecraft', 'construction', 'drawing', 'tennis', 'bass', 'leaf', 'football', 'baseball', 'shade', 'coal', 'column', 'pillar', 'smog', 'axe', 'novel', 'wilderness', 'flight', 'airliner', 'flare', 'bullfighter', 'flower', 'scientist', 'bullet', 'arm', 'dome', 'kart', 'mower', 'winter', 'aid', 'first', 'pianist', 'kiosk', 'piano', 'gas', 'space', 'aircraft', 'cat', 'pope', 'landslide', 'chicken', 'dealership', 'vessel', 'watercraft', 'mustache', 'awning', 'mascot', 'hardhat', 'gym', 'top', 'sumo', 'wrestling', 'guitarist', 'finch', 'handrail', 'banister', 'bishop', 'neon', 'green', 'gps', 'tunnel', 'vegetation', 'sphere', 'vigil', 'wind', 'athlete', 'spire', 'steeple', 'clock', 'surgery', 'cobblestone', 'airfield', 'stage', 'tripod', 'sheep', 'freckle', 'dorm', 'bedroom', 'vase', 'jar', 'tai', 'chi', 'tattoo', 'liquor', 'iphone', 'costume', 'field', 'triangle', 'turban', 'sunglasses', 'faucet', 'sink', 'package', 'delivery', 'running', 'lentil', 'bean', 'wedding', 'sport', 'beer', 'invertebrate', 'postal', 'luggage', 'bmx', 'room', 'sneaker', 'pharmacy', 'light', 'cuff', 'calendar', 'patient', 'bed', 'tornado', 'volcano', 'eruption', 'sun', 'modern', 'crossing', 'pavement', 'sidewalk', 'knee', 'cross', 'campus', 'rubble', 'snow', 'jacket', 'final', 'fantasy', 'canopy', 'teeth', 'pottery', 'rug', 'camera', 'pet', 'reptile', 'neck', 'shelf', 'knot', 'newborn', 'mud', 'indoor', 'watermelon', 'halo', 'cup', 'candy', 'linen', 'archaeology', 'alloy', 'priest', 'theft', 'auto', 'bus', 'medication', 'pill', 'limo', 'pump', 'locker', 'sketch', 'oven', 'black', 'bench', 'airplane', 'menu', 'dollar', 'martial', 'arts', 'urban', 'scarf', 'contact', 'lens', 'collage', 'student', 'samurai', 'motorcycle', 'rally', 'cape', 'graduation', 'crash', 'pc', 'door', 'evening', 'life', 'bumper', 'smoke', 'sewer', 'jewelry', 'pollution', 'knife', 'blade', 'vending', 'cardigan', 'number', 'hardware', 'headband', 'wrap', 'lamp', 'microscope', 'judge', 'mirror', 'worker', 'boy', 'grand', 'town', 'city', 'steering', 'dating', 'lcd', 'lot', 'brick', 'television', 'tv', 'turbine', 'pendant', 'truck', 'sticker', 'swat', 'carpet', 'street', 'mountain', 'american', 'robe', 'lighting', 'banner', 'duel', 'necklace', 'mouse', 'adventure', 'mist', 'baby', 'ground', 'cafe', 'bartender', 'red', 'business', 'handwriting', 'festival', 'cell', 'mobile', 'troop', 'game', 'overwatch', 'lip', 'mouth', 'billboard', 'atlas', 'gown', 'purple', 'selfie', 'woman', 'pub', 'out', 'bookstore', 'cleaning', 'counter', 'undershirt', 'map', 'person', 'human', 'tar', 'emblem', 'area', 'play', 'girl', 'phone', 'atm', 'cash', 'label', 'ice', 'senior', 'citizen', 'tuxedo', 'webpage', 'tire', 'road', 'tile', 'card', 'ammunition', 'quake', 'dressing', 'graphics', 'chess', 'jaw', 'surgeon', 'hydrant', 'building', 'walkway', 'computer', 'make', 'parking', 'clothing', 'flame', 'apparel', 'newspaper', 'range', 'debate', 'executive', 'premiere', 'bar', 'family', 'silhouette', 'keyboard', 'female', 'badge', 'pit', 'coat', 'police', 'bonfire', 'architecture', 'dimples', 'glasses', 'arcade', 'race', 'performer', 'pedestrian', 'tabletop', 'shoe', 'arrow', 'army', 'veil', 'tower', 'kid', 'child', 'asphalt', 'tarmac', 'soldier', 'page', 'demolition', 'paintball', 'blazer', 'wash', 'armored', 'attorney', 'footwear', 'indoors', 'blonde', 'haircut', 'dress', 'sports', 'manufacturing', 'wheel', 'home', 'decor', 'skin', 'buggy', 'rifle', 'word', 'letter', 'bag', 'fire', 'finger', 'shirt', 'hood', 'fashion', 'path', 'shooting', 'restaurant', 'uniform', 'photography', 'jeans', 'denim', 'photo', 'desk', 'flooring', 'teen', 'sign', 'sweater', 'sweatshirt', 'flag', 'beard', 'transportation', 'electronics', 'table', 'armory', 'alphabet', 'vehicle', 'face', 'electrical', 'device', 'microphone', 'display', 'clinic', 'plastic', 'cafeteria', 'prison', 'monitor', 'helmet', 'frown', 'smile', 'stop', 'necktie', 'tabloid', 'screen', 'bazaar', 'magazine', 'automobile', 'chair', 'newsstand', 'factory', 'pants', 'conference', 'military', 'crowd', 'video', 'overcoat', 'press', 'logo', 'trademark', 'furniture', 'text', 'people', 'portrait', 'head', 'suit', 'hair', 'gaming', 'grocery', 'symbol', 'supermarket', 'car', 'market', 'lecture', 'store', 'man', 'speech', 'handgun', 'accessory', 'accessories', 'ninja', 'audience', 'workshop', 'machine', 'tie', 'shop', 'gun', 'weaponry', 'weapon']\n"
          ],
          "name": "stdout"
        }
      ]
    },
    {
      "cell_type": "markdown",
      "metadata": {
        "id": "wweS-wMWoWUw",
        "colab_type": "text"
      },
      "source": [
        "## Multi-Class Classifier\n",
        "We have tf-df weighted vector representations of the object lables, therefore now we can use these to train supervised classifiers"
      ]
    },
    {
      "cell_type": "markdown",
      "metadata": {
        "id": "fka0bQLtpAWo",
        "colab_type": "text"
      },
      "source": [
        "### Naive Bayes Classifier\n",
        "using the multinomial variant"
      ]
    },
    {
      "cell_type": "code",
      "metadata": {
        "id": "iJ-mMBltBnEk",
        "colab_type": "code",
        "colab": {}
      },
      "source": [
        "from sklearn.model_selection import train_test_split\n",
        "from sklearn.feature_extraction.text import CountVectorizer\n",
        "from sklearn.feature_extraction.text import TfidfTransformer\n",
        "from sklearn.naive_bayes import MultinomialNB\n",
        "\n",
        "# X_train, X_test, y_train, y_test = train_test_split(df['object_labels'], df['tags_string'], random_state = 0)\n",
        "X_train = df['object_labels']\n",
        "X_test = df_test['object_labels']\n",
        "y_train = df['tags_string']\n",
        "y_test = df_test['tags_string']\n",
        "\n",
        "count_vect = CountVectorizer()\n",
        "X_train_counts = count_vect.fit_transform(X_train)\n",
        "tfidf_transformer = TfidfTransformer()\n",
        "X_train_tfidf = tfidf_transformer.fit_transform(X_train_counts)\n",
        "clf = MultinomialNB().fit(X_train_tfidf, y_train)"
      ],
      "execution_count": 0,
      "outputs": []
    },
    {
      "cell_type": "markdown",
      "metadata": {
        "id": "ebnG85H_pHlZ",
        "colab_type": "text"
      },
      "source": [
        "### Sample predictions"
      ]
    },
    {
      "cell_type": "code",
      "metadata": {
        "id": "GF8h2mjpB6Nd",
        "colab_type": "code",
        "outputId": "1d6f5096-a960-485d-aa5f-89d46454d580",
        "colab": {
          "base_uri": "https://localhost:8080/",
          "height": 36
        }
      },
      "source": [
        "print(clf.predict(count_vect.transform([\"Human, Glasses, Gun, Shop, Knife\"])))"
      ],
      "execution_count": 0,
      "outputs": [
        {
          "output_type": "stream",
          "text": [
            "['HighCrime']\n"
          ],
          "name": "stdout"
        }
      ]
    },
    {
      "cell_type": "code",
      "metadata": {
        "id": "dvqX0DGIpMoO",
        "colab_type": "code",
        "outputId": "4434c85c-cd11-4a3f-fc75-6c0c9819a625",
        "colab": {
          "base_uri": "https://localhost:8080/",
          "height": 36
        }
      },
      "source": [
        "print(clf.predict(count_vect.transform([\"Human, Glasses, Shop\"])))"
      ],
      "execution_count": 0,
      "outputs": [
        {
          "output_type": "stream",
          "text": [
            "['NoCrime']\n"
          ],
          "name": "stdout"
        }
      ]
    },
    {
      "cell_type": "markdown",
      "metadata": {
        "id": "tIrCf_z9pUpB",
        "colab_type": "text"
      },
      "source": [
        "### Benchmarking accuracy of 4 different ML models\n",
        "    Logistic Regression\n",
        "    (Multinomial) Naive Bayes\n",
        "    Linear Support Vector Machine\n",
        "    Random Forest"
      ]
    },
    {
      "cell_type": "code",
      "metadata": {
        "id": "jnd7xdqQle6Z",
        "colab_type": "code",
        "outputId": "89bbc5d1-fcb2-47ce-a0a9-0149fcc4ec5a",
        "colab": {
          "base_uri": "https://localhost:8080/",
          "height": 675
        }
      },
      "source": [
        "from sklearn.linear_model import LogisticRegression\n",
        "from sklearn.ensemble import RandomForestClassifier\n",
        "from sklearn.svm import LinearSVC\n",
        "from sklearn.model_selection import cross_val_score\n",
        "\n",
        "models = [\n",
        "    RandomForestClassifier(n_estimators=200, max_depth=3, random_state=0),\n",
        "    LinearSVC(),\n",
        "    MultinomialNB(),\n",
        "    LogisticRegression(random_state=0),\n",
        "]\n",
        "CV = 5\n",
        "cv_df = pd.DataFrame(index=range(CV * len(models)))\n",
        "entries = []\n",
        "for model in models:\n",
        "  model_name = model.__class__.__name__\n",
        "  accuracies = cross_val_score(model, features, labels, scoring='accuracy', cv=CV)\n",
        "  for fold_idx, accuracy in enumerate(accuracies):\n",
        "    entries.append((model_name, fold_idx, accuracy))\n",
        "cv_df = pd.DataFrame(entries, columns=['model_name', 'fold_idx', 'accuracy'])\n",
        "\n",
        "import seaborn as sns\n",
        "\n",
        "sns.boxplot(x='model_name', y='accuracy', data=cv_df)\n",
        "sns.stripplot(x='model_name', y='accuracy', data=cv_df, \n",
        "              size=8, jitter=True, edgecolor=\"gray\", linewidth=2)\n",
        "plt.show()"
      ],
      "execution_count": 0,
      "outputs": [
        {
          "output_type": "stream",
          "text": [
            "/usr/local/lib/python3.6/dist-packages/sklearn/linear_model/logistic.py:432: FutureWarning: Default solver will be changed to 'lbfgs' in 0.22. Specify a solver to silence this warning.\n",
            "  FutureWarning)\n",
            "/usr/local/lib/python3.6/dist-packages/sklearn/linear_model/logistic.py:469: FutureWarning: Default multi_class will be changed to 'auto' in 0.22. Specify the multi_class option to silence this warning.\n",
            "  \"this warning.\", FutureWarning)\n",
            "/usr/local/lib/python3.6/dist-packages/sklearn/linear_model/logistic.py:432: FutureWarning: Default solver will be changed to 'lbfgs' in 0.22. Specify a solver to silence this warning.\n",
            "  FutureWarning)\n",
            "/usr/local/lib/python3.6/dist-packages/sklearn/linear_model/logistic.py:469: FutureWarning: Default multi_class will be changed to 'auto' in 0.22. Specify the multi_class option to silence this warning.\n",
            "  \"this warning.\", FutureWarning)\n",
            "/usr/local/lib/python3.6/dist-packages/sklearn/linear_model/logistic.py:432: FutureWarning: Default solver will be changed to 'lbfgs' in 0.22. Specify a solver to silence this warning.\n",
            "  FutureWarning)\n",
            "/usr/local/lib/python3.6/dist-packages/sklearn/linear_model/logistic.py:469: FutureWarning: Default multi_class will be changed to 'auto' in 0.22. Specify the multi_class option to silence this warning.\n",
            "  \"this warning.\", FutureWarning)\n",
            "/usr/local/lib/python3.6/dist-packages/sklearn/linear_model/logistic.py:432: FutureWarning: Default solver will be changed to 'lbfgs' in 0.22. Specify a solver to silence this warning.\n",
            "  FutureWarning)\n",
            "/usr/local/lib/python3.6/dist-packages/sklearn/linear_model/logistic.py:469: FutureWarning: Default multi_class will be changed to 'auto' in 0.22. Specify the multi_class option to silence this warning.\n",
            "  \"this warning.\", FutureWarning)\n",
            "/usr/local/lib/python3.6/dist-packages/sklearn/linear_model/logistic.py:432: FutureWarning: Default solver will be changed to 'lbfgs' in 0.22. Specify a solver to silence this warning.\n",
            "  FutureWarning)\n",
            "/usr/local/lib/python3.6/dist-packages/sklearn/linear_model/logistic.py:469: FutureWarning: Default multi_class will be changed to 'auto' in 0.22. Specify the multi_class option to silence this warning.\n",
            "  \"this warning.\", FutureWarning)\n"
          ],
          "name": "stderr"
        },
        {
          "output_type": "display_data",
          "data": {
            "image/png": "[encoded data removed]",
            "text/plain": [
              "<Figure size 432x288 with 1 Axes>"
            ]
          },
          "metadata": {
            "tags": []
          }
        }
      ]
    },
    {
      "cell_type": "code",
      "metadata": {
        "id": "lGXLMSYolxVA",
        "colab_type": "code",
        "outputId": "e487d0cd-2620-4f73-957b-8b48ed4fcef2",
        "colab": {
          "base_uri": "https://localhost:8080/",
          "height": 128
        }
      },
      "source": [
        "cv_df.groupby('model_name').accuracy.mean()"
      ],
      "execution_count": 0,
      "outputs": [
        {
          "output_type": "execute_result",
          "data": {
            "text/plain": [
              "model_name\n",
              "LinearSVC                 0.699622\n",
              "LogisticRegression        0.701127\n",
              "MultinomialNB             0.678324\n",
              "RandomForestClassifier    0.666670\n",
              "Name: accuracy, dtype: float64"
            ]
          },
          "metadata": {
            "tags": []
          },
          "execution_count": 125
        }
      ]
    },
    {
      "cell_type": "markdown",
      "metadata": {
        "id": "AdypJ2Pypl-G",
        "colab_type": "text"
      },
      "source": [
        "The best model seems to be LogisticRegression"
      ]
    },
    {
      "cell_type": "markdown",
      "metadata": {
        "id": "iU3BFKC8poV9",
        "colab_type": "text"
      },
      "source": [
        "### Best Model Evaluation\n",
        "Evaluation using confusion matrix / heat map between predicted and actual labels"
      ]
    },
    {
      "cell_type": "code",
      "metadata": {
        "id": "sNFCrOmtuDW_",
        "colab_type": "code",
        "outputId": "e1ad74b4-d341-4b27-e94b-e484164be6e4",
        "colab": {
          "base_uri": "https://localhost:8080/",
          "height": 111
        }
      },
      "source": [
        "X_train = df['object_labels']\n",
        "X_test = df_test['object_labels']\n",
        "y_train = df['tags_string']\n",
        "y_test = df_test['tags_string']\n",
        "\n",
        "count_vect = CountVectorizer()\n",
        "X_train_counts = count_vect.fit_transform(X_train)\n",
        "tfidf_transformer = TfidfTransformer()\n",
        "X_train_tfidf = tfidf_transformer.fit_transform(X_train_counts)\n",
        "lr = LogisticRegression().fit(X_train_tfidf, y_train)"
      ],
      "execution_count": 0,
      "outputs": [
        {
          "output_type": "stream",
          "text": [
            "/usr/local/lib/python3.6/dist-packages/sklearn/linear_model/logistic.py:432: FutureWarning: Default solver will be changed to 'lbfgs' in 0.22. Specify a solver to silence this warning.\n",
            "  FutureWarning)\n",
            "/usr/local/lib/python3.6/dist-packages/sklearn/linear_model/logistic.py:469: FutureWarning: Default multi_class will be changed to 'auto' in 0.22. Specify the multi_class option to silence this warning.\n",
            "  \"this warning.\", FutureWarning)\n"
          ],
          "name": "stderr"
        }
      ]
    },
    {
      "cell_type": "code",
      "metadata": {
        "id": "8JchDynGl2_e",
        "colab_type": "code",
        "outputId": "e850067c-d2e7-49e8-e705-ec836037f626",
        "colab": {
          "base_uri": "https://localhost:8080/",
          "height": 703
        }
      },
      "source": [
        "model = LogisticRegression()\n",
        "X_train, X_test, y_train, y_test, indices_train, indices_test = train_test_split(features, labels, df.index, test_size=0.25, random_state=0)\n",
        "\n",
        "model.fit(X_train, y_train)\n",
        "y_pred = model.predict(X_test)\n",
        "from sklearn.metrics import confusion_matrix\n",
        "\n",
        "conf_mat = confusion_matrix(y_test, y_pred)\n",
        "fig, ax = plt.subplots(figsize=(10,10))\n",
        "sns.heatmap(conf_mat, annot=True, fmt='d',\n",
        "            xticklabels=category_id_df.tags_string.values, yticklabels=category_id_df.tags_string.values)\n",
        "plt.ylabel('Actual')\n",
        "plt.xlabel('Predicted')\n",
        "plt.show()"
      ],
      "execution_count": 0,
      "outputs": [
        {
          "output_type": "stream",
          "text": [
            "/usr/local/lib/python3.6/dist-packages/sklearn/linear_model/logistic.py:432: FutureWarning: Default solver will be changed to 'lbfgs' in 0.22. Specify a solver to silence this warning.\n",
            "  FutureWarning)\n",
            "/usr/local/lib/python3.6/dist-packages/sklearn/linear_model/logistic.py:469: FutureWarning: Default multi_class will be changed to 'auto' in 0.22. Specify the multi_class option to silence this warning.\n",
            "  \"this warning.\", FutureWarning)\n"
          ],
          "name": "stderr"
        },
        {
          "output_type": "display_data",
          "data": {
            "image/png": "[encoded data removed]",
            "text/plain": [
              "<Figure size 720x720 with 2 Axes>"
            ]
          },
          "metadata": {
            "tags": []
          }
        }
      ]
    },
    {
      "cell_type": "markdown",
      "metadata": {
        "id": "y-bqRCs1p_w8",
        "colab_type": "text"
      },
      "source": [
        "Model is the best at detecting no crime and better at detecting High crime over low crime, but still misclassfies some of them as no crime"
      ]
    },
    {
      "cell_type": "markdown",
      "metadata": {
        "id": "HqnKZUsjqK--",
        "colab_type": "text"
      },
      "source": [
        "### Some misclassifications"
      ]
    },
    {
      "cell_type": "code",
      "metadata": {
        "id": "iDuM1_Ftmc_q",
        "colab_type": "code",
        "outputId": "80583d38-8d61-4990-d228-b9faf211d9ff",
        "colab": {
          "base_uri": "https://localhost:8080/",
          "height": 1000
        }
      },
      "source": [
        "from IPython.display import display\n",
        "for predicted in category_id_df.category_id:\n",
        "  for actual in category_id_df.category_id:\n",
        "    if predicted != actual and conf_mat[actual, predicted] >= 10:\n",
        "      print(\"'{}' predicted as '{}' : {} examples.\".format(id_to_category[actual], id_to_category[predicted], conf_mat[actual, predicted]))\n",
        "      display(df.loc[indices_test[(y_test == actual) & (y_pred == predicted)]][['tags_string', 'object_labels']])\n",
        "      print('')"
      ],
      "execution_count": 0,
      "outputs": [
        {
          "output_type": "stream",
          "text": [
            "'NoCrime' predicted as 'HighCrime' : 11 examples.\n"
          ],
          "name": "stdout"
        },
        {
          "output_type": "display_data",
          "data": {
            "text/html": [
              "<div>\n",
              "<style scoped>\n",
              "    .dataframe tbody tr th:only-of-type {\n",
              "        vertical-align: middle;\n",
              "    }\n",
              "\n",
              "    .dataframe tbody tr th {\n",
              "        vertical-align: top;\n",
              "    }\n",
              "\n",
              "    .dataframe thead th {\n",
              "        text-align: right;\n",
              "    }\n",
              "</style>\n",
              "<table border=\"1\" class=\"dataframe\">\n",
              "  <thead>\n",
              "    <tr style=\"text-align: right;\">\n",
              "      <th></th>\n",
              "      <th>tags_string</th>\n",
              "      <th>object_labels</th>\n",
              "    </tr>\n",
              "  </thead>\n",
              "  <tbody>\n",
              "    <tr>\n",
              "      <th>85</th>\n",
              "      <td>NoCrime</td>\n",
              "      <td>Human,Person,Apparel,Clothing,Path,Performer,C...</td>\n",
              "    </tr>\n",
              "    <tr>\n",
              "      <th>230</th>\n",
              "      <td>NoCrime</td>\n",
              "      <td>Human,Person,Transportation,Car,Automobile,Veh...</td>\n",
              "    </tr>\n",
              "    <tr>\n",
              "      <th>1893</th>\n",
              "      <td>NoCrime</td>\n",
              "      <td>Person,Human,Shop,Grocery Store,Supermarket,Ma...</td>\n",
              "    </tr>\n",
              "    <tr>\n",
              "      <th>1148</th>\n",
              "      <td>NoCrime</td>\n",
              "      <td>Person,Human,Advertisement,Poster,Text,Paper,F...</td>\n",
              "    </tr>\n",
              "    <tr>\n",
              "      <th>260</th>\n",
              "      <td>NoCrime</td>\n",
              "      <td>Human,Person,Military,Military Uniform,Armored...</td>\n",
              "    </tr>\n",
              "    <tr>\n",
              "      <th>14</th>\n",
              "      <td>NoCrime</td>\n",
              "      <td>Clothing,Apparel,Shoe,Footwear,Human,Person,We...</td>\n",
              "    </tr>\n",
              "    <tr>\n",
              "      <th>444</th>\n",
              "      <td>NoCrime</td>\n",
              "      <td>Human,Person,Restaurant,Chair,Furniture,Cafe,D...</td>\n",
              "    </tr>\n",
              "    <tr>\n",
              "      <th>1782</th>\n",
              "      <td>NoCrime</td>\n",
              "      <td>Person,Human,Weaponry,Weapon,Gun,Apparel,Cloth...</td>\n",
              "    </tr>\n",
              "    <tr>\n",
              "      <th>724</th>\n",
              "      <td>NoCrime</td>\n",
              "      <td>Human,Person,Workshop,Clothing,Apparel,Chair,F...</td>\n",
              "    </tr>\n",
              "    <tr>\n",
              "      <th>1053</th>\n",
              "      <td>NoCrime</td>\n",
              "      <td>Weaponry,Weapon,Gun,Armory,Human,Person,Handgu...</td>\n",
              "    </tr>\n",
              "    <tr>\n",
              "      <th>1166</th>\n",
              "      <td>NoCrime</td>\n",
              "      <td>Human,Person,Shop,Electronics,Monitor,Screen,D...</td>\n",
              "    </tr>\n",
              "  </tbody>\n",
              "</table>\n",
              "</div>"
            ],
            "text/plain": [
              "     tags_string                                      object_labels\n",
              "85       NoCrime  Human,Person,Apparel,Clothing,Path,Performer,C...\n",
              "230      NoCrime  Human,Person,Transportation,Car,Automobile,Veh...\n",
              "1893     NoCrime  Person,Human,Shop,Grocery Store,Supermarket,Ma...\n",
              "1148     NoCrime  Person,Human,Advertisement,Poster,Text,Paper,F...\n",
              "260      NoCrime  Human,Person,Military,Military Uniform,Armored...\n",
              "14       NoCrime  Clothing,Apparel,Shoe,Footwear,Human,Person,We...\n",
              "444      NoCrime  Human,Person,Restaurant,Chair,Furniture,Cafe,D...\n",
              "1782     NoCrime  Person,Human,Weaponry,Weapon,Gun,Apparel,Cloth...\n",
              "724      NoCrime  Human,Person,Workshop,Clothing,Apparel,Chair,F...\n",
              "1053     NoCrime  Weaponry,Weapon,Gun,Armory,Human,Person,Handgu...\n",
              "1166     NoCrime  Human,Person,Shop,Electronics,Monitor,Screen,D..."
            ]
          },
          "metadata": {
            "tags": []
          }
        },
        {
          "output_type": "stream",
          "text": [
            "\n",
            "'LowCrime' predicted as 'HighCrime' : 13 examples.\n"
          ],
          "name": "stdout"
        },
        {
          "output_type": "display_data",
          "data": {
            "text/html": [
              "<div>\n",
              "<style scoped>\n",
              "    .dataframe tbody tr th:only-of-type {\n",
              "        vertical-align: middle;\n",
              "    }\n",
              "\n",
              "    .dataframe tbody tr th {\n",
              "        vertical-align: top;\n",
              "    }\n",
              "\n",
              "    .dataframe thead th {\n",
              "        text-align: right;\n",
              "    }\n",
              "</style>\n",
              "<table border=\"1\" class=\"dataframe\">\n",
              "  <thead>\n",
              "    <tr style=\"text-align: right;\">\n",
              "      <th></th>\n",
              "      <th>tags_string</th>\n",
              "      <th>object_labels</th>\n",
              "    </tr>\n",
              "  </thead>\n",
              "  <tbody>\n",
              "    <tr>\n",
              "      <th>1587</th>\n",
              "      <td>LowCrime</td>\n",
              "      <td>Person,Human,Apparel,Clothing,People,Face,Vide...</td>\n",
              "    </tr>\n",
              "    <tr>\n",
              "      <th>1832</th>\n",
              "      <td>LowCrime</td>\n",
              "      <td>Furniture,Chair,Person,Human,Apparel,Clothing,...</td>\n",
              "    </tr>\n",
              "    <tr>\n",
              "      <th>558</th>\n",
              "      <td>LowCrime</td>\n",
              "      <td>Person,Human,Shop,Bazaar,Market,Shopping,Peopl...</td>\n",
              "    </tr>\n",
              "    <tr>\n",
              "      <th>406</th>\n",
              "      <td>LowCrime</td>\n",
              "      <td>Person,Human,Brick,Ninja,People,Clothing,Apparel</td>\n",
              "    </tr>\n",
              "    <tr>\n",
              "      <th>1746</th>\n",
              "      <td>LowCrime</td>\n",
              "      <td>Human,Person,Building,People,Machine</td>\n",
              "    </tr>\n",
              "    <tr>\n",
              "      <th>1929</th>\n",
              "      <td>LowCrime</td>\n",
              "      <td>Person,Human,Apparel,Clothing,People,Face,Elec...</td>\n",
              "    </tr>\n",
              "    <tr>\n",
              "      <th>667</th>\n",
              "      <td>LowCrime</td>\n",
              "      <td>Car,Transportation,Vehicle,Automobile,Human,Pe...</td>\n",
              "    </tr>\n",
              "    <tr>\n",
              "      <th>559</th>\n",
              "      <td>LowCrime</td>\n",
              "      <td>Human,Person,Shop,Market,Supermarket,Grocery S...</td>\n",
              "    </tr>\n",
              "    <tr>\n",
              "      <th>5</th>\n",
              "      <td>LowCrime</td>\n",
              "      <td>Person,Human,Police,Transportation,Vehicle,Aut...</td>\n",
              "    </tr>\n",
              "    <tr>\n",
              "      <th>1074</th>\n",
              "      <td>LowCrime</td>\n",
              "      <td>Clothing,Apparel,Helmet,Crash Helmet,Person,Hu...</td>\n",
              "    </tr>\n",
              "    <tr>\n",
              "      <th>361</th>\n",
              "      <td>LowCrime</td>\n",
              "      <td>Human,Person,Machine,Gas Station,Pump,Shop,Peo...</td>\n",
              "    </tr>\n",
              "    <tr>\n",
              "      <th>1292</th>\n",
              "      <td>LowCrime</td>\n",
              "      <td>Human,Person,Grocery Store,Shop,Market,Superma...</td>\n",
              "    </tr>\n",
              "    <tr>\n",
              "      <th>1319</th>\n",
              "      <td>LowCrime</td>\n",
              "      <td>Person,Human,Apparel,Clothing,Shop,People,Groc...</td>\n",
              "    </tr>\n",
              "  </tbody>\n",
              "</table>\n",
              "</div>"
            ],
            "text/plain": [
              "     tags_string                                      object_labels\n",
              "1587    LowCrime  Person,Human,Apparel,Clothing,People,Face,Vide...\n",
              "1832    LowCrime  Furniture,Chair,Person,Human,Apparel,Clothing,...\n",
              "558     LowCrime  Person,Human,Shop,Bazaar,Market,Shopping,Peopl...\n",
              "406     LowCrime   Person,Human,Brick,Ninja,People,Clothing,Apparel\n",
              "1746    LowCrime               Human,Person,Building,People,Machine\n",
              "1929    LowCrime  Person,Human,Apparel,Clothing,People,Face,Elec...\n",
              "667     LowCrime  Car,Transportation,Vehicle,Automobile,Human,Pe...\n",
              "559     LowCrime  Human,Person,Shop,Market,Supermarket,Grocery S...\n",
              "5       LowCrime  Person,Human,Police,Transportation,Vehicle,Aut...\n",
              "1074    LowCrime  Clothing,Apparel,Helmet,Crash Helmet,Person,Hu...\n",
              "361     LowCrime  Human,Person,Machine,Gas Station,Pump,Shop,Peo...\n",
              "1292    LowCrime  Human,Person,Grocery Store,Shop,Market,Superma...\n",
              "1319    LowCrime  Person,Human,Apparel,Clothing,Shop,People,Groc..."
            ]
          },
          "metadata": {
            "tags": []
          }
        },
        {
          "output_type": "stream",
          "text": [
            "\n",
            "'HighCrime' predicted as 'NoCrime' : 67 examples.\n"
          ],
          "name": "stdout"
        },
        {
          "output_type": "display_data",
          "data": {
            "text/html": [
              "<div>\n",
              "<style scoped>\n",
              "    .dataframe tbody tr th:only-of-type {\n",
              "        vertical-align: middle;\n",
              "    }\n",
              "\n",
              "    .dataframe tbody tr th {\n",
              "        vertical-align: top;\n",
              "    }\n",
              "\n",
              "    .dataframe thead th {\n",
              "        text-align: right;\n",
              "    }\n",
              "</style>\n",
              "<table border=\"1\" class=\"dataframe\">\n",
              "  <thead>\n",
              "    <tr style=\"text-align: right;\">\n",
              "      <th></th>\n",
              "      <th>tags_string</th>\n",
              "      <th>object_labels</th>\n",
              "    </tr>\n",
              "  </thead>\n",
              "  <tbody>\n",
              "    <tr>\n",
              "      <th>712</th>\n",
              "      <td>HighCrime</td>\n",
              "      <td>Glove,Clothing,Apparel,Human,Person,Sports,Spo...</td>\n",
              "    </tr>\n",
              "    <tr>\n",
              "      <th>1555</th>\n",
              "      <td>HighCrime</td>\n",
              "      <td>Accessories,Goggles,Accessory</td>\n",
              "    </tr>\n",
              "    <tr>\n",
              "      <th>1392</th>\n",
              "      <td>HighCrime</td>\n",
              "      <td>Person,Human,Axe,Tool,Barefoot,Mud,Tribe</td>\n",
              "    </tr>\n",
              "    <tr>\n",
              "      <th>1546</th>\n",
              "      <td>HighCrime</td>\n",
              "      <td>Human,Person,Transportation,Car,Vehicle,Automo...</td>\n",
              "    </tr>\n",
              "    <tr>\n",
              "      <th>1223</th>\n",
              "      <td>HighCrime</td>\n",
              "      <td>Human,Person,Shoe,Footwear,Apparel,Clothing,Tr...</td>\n",
              "    </tr>\n",
              "    <tr>\n",
              "      <th>1491</th>\n",
              "      <td>HighCrime</td>\n",
              "      <td>Finger,Person,Human,Hand</td>\n",
              "    </tr>\n",
              "    <tr>\n",
              "      <th>1784</th>\n",
              "      <td>HighCrime</td>\n",
              "      <td>Human,Person,Face,Accessories,Accessory,Sungla...</td>\n",
              "    </tr>\n",
              "    <tr>\n",
              "      <th>533</th>\n",
              "      <td>HighCrime</td>\n",
              "      <td>Person,Face,Human,Dating,Crowd,People,Audience...</td>\n",
              "    </tr>\n",
              "    <tr>\n",
              "      <th>1303</th>\n",
              "      <td>HighCrime</td>\n",
              "      <td>Face,Person,Human,Female,Crowd,Woman,Text,Girl...</td>\n",
              "    </tr>\n",
              "    <tr>\n",
              "      <th>53</th>\n",
              "      <td>HighCrime</td>\n",
              "      <td>Person,Human,Indoors,Shop,Room,Bookstore,Book,...</td>\n",
              "    </tr>\n",
              "    <tr>\n",
              "      <th>466</th>\n",
              "      <td>HighCrime</td>\n",
              "      <td>Person,Human,Book,Comics,Clothing,Apparel,Peop...</td>\n",
              "    </tr>\n",
              "    <tr>\n",
              "      <th>192</th>\n",
              "      <td>HighCrime</td>\n",
              "      <td>Human,Person,Face,Glasses,Accessory,Accessorie...</td>\n",
              "    </tr>\n",
              "    <tr>\n",
              "      <th>1117</th>\n",
              "      <td>HighCrime</td>\n",
              "      <td>Person,Human,Path,Walkway,Gate,Architecture,Bu...</td>\n",
              "    </tr>\n",
              "    <tr>\n",
              "      <th>1431</th>\n",
              "      <td>HighCrime</td>\n",
              "      <td>Human,Person,Plant,Clothing,Apparel,Hat,Food,F...</td>\n",
              "    </tr>\n",
              "    <tr>\n",
              "      <th>947</th>\n",
              "      <td>HighCrime</td>\n",
              "      <td>Road,Human,Person,Transportation,Car,Automobil...</td>\n",
              "    </tr>\n",
              "    <tr>\n",
              "      <th>1462</th>\n",
              "      <td>HighCrime</td>\n",
              "      <td>Pedestrian,Road,Automobile,Transportation,Car,...</td>\n",
              "    </tr>\n",
              "    <tr>\n",
              "      <th>1674</th>\n",
              "      <td>HighCrime</td>\n",
              "      <td>Helmet,Apparel,Clothing,Human,Person,People,Mi...</td>\n",
              "    </tr>\n",
              "    <tr>\n",
              "      <th>1601</th>\n",
              "      <td>HighCrime</td>\n",
              "      <td>Person,Human,Plant,Food,Produce,Vegetable,Bean...</td>\n",
              "    </tr>\n",
              "    <tr>\n",
              "      <th>642</th>\n",
              "      <td>HighCrime</td>\n",
              "      <td>Human,Person,Face,Female,Crowd,Sport,Sports</td>\n",
              "    </tr>\n",
              "    <tr>\n",
              "      <th>255</th>\n",
              "      <td>HighCrime</td>\n",
              "      <td>Apparel,Clothing,Person,Human,Pants,Vacation,T...</td>\n",
              "    </tr>\n",
              "    <tr>\n",
              "      <th>1181</th>\n",
              "      <td>HighCrime</td>\n",
              "      <td>Chair,Furniture,Nature,Animal,Bird,Face,Skin,S...</td>\n",
              "    </tr>\n",
              "    <tr>\n",
              "      <th>795</th>\n",
              "      <td>HighCrime</td>\n",
              "      <td>Human,Person,Apparel,Clothing,Face,People,Slee...</td>\n",
              "    </tr>\n",
              "    <tr>\n",
              "      <th>1126</th>\n",
              "      <td>HighCrime</td>\n",
              "      <td>Wood,Hardwood,Person,Human,Flooring,Floor,Plyw...</td>\n",
              "    </tr>\n",
              "    <tr>\n",
              "      <th>318</th>\n",
              "      <td>HighCrime</td>\n",
              "      <td>Human,Person,Apparel,Shoe,Footwear,Clothing,So...</td>\n",
              "    </tr>\n",
              "    <tr>\n",
              "      <th>675</th>\n",
              "      <td>HighCrime</td>\n",
              "      <td>Text,Menu,Number,Symbol,Plot,Label,Word,Page,D...</td>\n",
              "    </tr>\n",
              "    <tr>\n",
              "      <th>982</th>\n",
              "      <td>HighCrime</td>\n",
              "      <td>Human,Person,Costume,Clothing,Apparel,Sleeve,L...</td>\n",
              "    </tr>\n",
              "    <tr>\n",
              "      <th>1812</th>\n",
              "      <td>HighCrime</td>\n",
              "      <td>Human,Person,Text,Bus Stop</td>\n",
              "    </tr>\n",
              "    <tr>\n",
              "      <th>176</th>\n",
              "      <td>HighCrime</td>\n",
              "      <td>Human,Person,Architecture,Building,Clothing,Ap...</td>\n",
              "    </tr>\n",
              "    <tr>\n",
              "      <th>830</th>\n",
              "      <td>HighCrime</td>\n",
              "      <td>Human,Person,Silhouette,Photography,Photo,Phot...</td>\n",
              "    </tr>\n",
              "    <tr>\n",
              "      <th>1001</th>\n",
              "      <td>HighCrime</td>\n",
              "      <td>Person,Human,Text,Newspaper,Poster,Advertiseme...</td>\n",
              "    </tr>\n",
              "    <tr>\n",
              "      <th>...</th>\n",
              "      <td>...</td>\n",
              "      <td>...</td>\n",
              "    </tr>\n",
              "    <tr>\n",
              "      <th>1651</th>\n",
              "      <td>HighCrime</td>\n",
              "      <td>Face,Photography,Portrait,Photo</td>\n",
              "    </tr>\n",
              "    <tr>\n",
              "      <th>517</th>\n",
              "      <td>HighCrime</td>\n",
              "      <td>Human,Person,Face,Text,Id Cards,Document,Beard...</td>\n",
              "    </tr>\n",
              "    <tr>\n",
              "      <th>92</th>\n",
              "      <td>HighCrime</td>\n",
              "      <td>Face,Person,Human,People,Photo,Photography</td>\n",
              "    </tr>\n",
              "    <tr>\n",
              "      <th>967</th>\n",
              "      <td>HighCrime</td>\n",
              "      <td>Human,Person,Art,Nature,Building,Painting,Elec...</td>\n",
              "    </tr>\n",
              "    <tr>\n",
              "      <th>738</th>\n",
              "      <td>HighCrime</td>\n",
              "      <td>Face,Person,Human,Skin,Contact Lens,Finger,Pho...</td>\n",
              "    </tr>\n",
              "    <tr>\n",
              "      <th>323</th>\n",
              "      <td>HighCrime</td>\n",
              "      <td>Car,Automobile,Transportation,Vehicle,Person,H...</td>\n",
              "    </tr>\n",
              "    <tr>\n",
              "      <th>1589</th>\n",
              "      <td>HighCrime</td>\n",
              "      <td>Person,Human,Car,Vehicle,Transportation,Automo...</td>\n",
              "    </tr>\n",
              "    <tr>\n",
              "      <th>1560</th>\n",
              "      <td>HighCrime</td>\n",
              "      <td>Human,Person,Building,Housing,Indoors,Sport,Wo...</td>\n",
              "    </tr>\n",
              "    <tr>\n",
              "      <th>622</th>\n",
              "      <td>HighCrime</td>\n",
              "      <td>Apparel,Footwear,Clothing,Shoe,Human,Person,He...</td>\n",
              "    </tr>\n",
              "    <tr>\n",
              "      <th>1092</th>\n",
              "      <td>HighCrime</td>\n",
              "      <td>Human,Person,Word,Screen,Electronics,Display,M...</td>\n",
              "    </tr>\n",
              "    <tr>\n",
              "      <th>749</th>\n",
              "      <td>HighCrime</td>\n",
              "      <td>Person,Human,Electronics,Screen,Monitor,Displa...</td>\n",
              "    </tr>\n",
              "    <tr>\n",
              "      <th>160</th>\n",
              "      <td>HighCrime</td>\n",
              "      <td>Person,Human,Car,Transportation,Vehicle,Automo...</td>\n",
              "    </tr>\n",
              "    <tr>\n",
              "      <th>1815</th>\n",
              "      <td>HighCrime</td>\n",
              "      <td>Human,Person,Sport,Working Out,Exercise,Sports...</td>\n",
              "    </tr>\n",
              "    <tr>\n",
              "      <th>1813</th>\n",
              "      <td>HighCrime</td>\n",
              "      <td>Person,Human,Transportation,Vehicle,Military,M...</td>\n",
              "    </tr>\n",
              "    <tr>\n",
              "      <th>531</th>\n",
              "      <td>HighCrime</td>\n",
              "      <td>Person,Human,Footwear,Shoe,Apparel,Clothing,Cr...</td>\n",
              "    </tr>\n",
              "    <tr>\n",
              "      <th>1194</th>\n",
              "      <td>HighCrime</td>\n",
              "      <td>Transportation,Car,Automobile,Vehicle,Human,Pe...</td>\n",
              "    </tr>\n",
              "    <tr>\n",
              "      <th>603</th>\n",
              "      <td>HighCrime</td>\n",
              "      <td>Human,Person,Electronics,Workshop,Crowd,Indoor...</td>\n",
              "    </tr>\n",
              "    <tr>\n",
              "      <th>1586</th>\n",
              "      <td>HighCrime</td>\n",
              "      <td>Chair,Furniture,Human,Person,Sitting,Apparel,S...</td>\n",
              "    </tr>\n",
              "    <tr>\n",
              "      <th>746</th>\n",
              "      <td>HighCrime</td>\n",
              "      <td>Person,Human,Automobile,Car,Transportation,Veh...</td>\n",
              "    </tr>\n",
              "    <tr>\n",
              "      <th>1821</th>\n",
              "      <td>HighCrime</td>\n",
              "      <td>Apparel,Clothing,Human,Person,Helmet,Transport...</td>\n",
              "    </tr>\n",
              "    <tr>\n",
              "      <th>1791</th>\n",
              "      <td>HighCrime</td>\n",
              "      <td>Human,Person,Transportation,Car,Vehicle,Automo...</td>\n",
              "    </tr>\n",
              "    <tr>\n",
              "      <th>734</th>\n",
              "      <td>HighCrime</td>\n",
              "      <td>Human,Person,Police,Clothing,Apparel,Advertise...</td>\n",
              "    </tr>\n",
              "    <tr>\n",
              "      <th>1681</th>\n",
              "      <td>HighCrime</td>\n",
              "      <td>Person,Human,Clothing,Apparel,Electronics,Coat...</td>\n",
              "    </tr>\n",
              "    <tr>\n",
              "      <th>1454</th>\n",
              "      <td>HighCrime</td>\n",
              "      <td>Cushion,Human,Person,Car,Transportation,Vehicl...</td>\n",
              "    </tr>\n",
              "    <tr>\n",
              "      <th>1751</th>\n",
              "      <td>HighCrime</td>\n",
              "      <td>Text,Poster,Advertisement,Flyer,Brochure,Paper...</td>\n",
              "    </tr>\n",
              "    <tr>\n",
              "      <th>814</th>\n",
              "      <td>HighCrime</td>\n",
              "      <td>Clothing,Apparel,Person,Human,Sweater,Cardigan...</td>\n",
              "    </tr>\n",
              "    <tr>\n",
              "      <th>178</th>\n",
              "      <td>HighCrime</td>\n",
              "      <td>Person,Human,Apparel,Clothing,Skin,Flooring,Pa...</td>\n",
              "    </tr>\n",
              "    <tr>\n",
              "      <th>1176</th>\n",
              "      <td>HighCrime</td>\n",
              "      <td>Text,Page,Human,Person,Newspaper,Document,Adve...</td>\n",
              "    </tr>\n",
              "    <tr>\n",
              "      <th>1115</th>\n",
              "      <td>HighCrime</td>\n",
              "      <td>Electronics,Monitor,Screen,Display,Person,Huma...</td>\n",
              "    </tr>\n",
              "    <tr>\n",
              "      <th>1487</th>\n",
              "      <td>HighCrime</td>\n",
              "      <td>Human,Person,Face,Chair,Furniture,Kid,Child,Pe...</td>\n",
              "    </tr>\n",
              "  </tbody>\n",
              "</table>\n",
              "<p>67 rows × 2 columns</p>\n",
              "</div>"
            ],
            "text/plain": [
              "     tags_string                                      object_labels\n",
              "712    HighCrime  Glove,Clothing,Apparel,Human,Person,Sports,Spo...\n",
              "1555   HighCrime                      Accessories,Goggles,Accessory\n",
              "1392   HighCrime           Person,Human,Axe,Tool,Barefoot,Mud,Tribe\n",
              "1546   HighCrime  Human,Person,Transportation,Car,Vehicle,Automo...\n",
              "1223   HighCrime  Human,Person,Shoe,Footwear,Apparel,Clothing,Tr...\n",
              "1491   HighCrime                           Finger,Person,Human,Hand\n",
              "1784   HighCrime  Human,Person,Face,Accessories,Accessory,Sungla...\n",
              "533    HighCrime  Person,Face,Human,Dating,Crowd,People,Audience...\n",
              "1303   HighCrime  Face,Person,Human,Female,Crowd,Woman,Text,Girl...\n",
              "53     HighCrime  Person,Human,Indoors,Shop,Room,Bookstore,Book,...\n",
              "466    HighCrime  Person,Human,Book,Comics,Clothing,Apparel,Peop...\n",
              "192    HighCrime  Human,Person,Face,Glasses,Accessory,Accessorie...\n",
              "1117   HighCrime  Person,Human,Path,Walkway,Gate,Architecture,Bu...\n",
              "1431   HighCrime  Human,Person,Plant,Clothing,Apparel,Hat,Food,F...\n",
              "947    HighCrime  Road,Human,Person,Transportation,Car,Automobil...\n",
              "1462   HighCrime  Pedestrian,Road,Automobile,Transportation,Car,...\n",
              "1674   HighCrime  Helmet,Apparel,Clothing,Human,Person,People,Mi...\n",
              "1601   HighCrime  Person,Human,Plant,Food,Produce,Vegetable,Bean...\n",
              "642    HighCrime        Human,Person,Face,Female,Crowd,Sport,Sports\n",
              "255    HighCrime  Apparel,Clothing,Person,Human,Pants,Vacation,T...\n",
              "1181   HighCrime  Chair,Furniture,Nature,Animal,Bird,Face,Skin,S...\n",
              "795    HighCrime  Human,Person,Apparel,Clothing,Face,People,Slee...\n",
              "1126   HighCrime  Wood,Hardwood,Person,Human,Flooring,Floor,Plyw...\n",
              "318    HighCrime  Human,Person,Apparel,Shoe,Footwear,Clothing,So...\n",
              "675    HighCrime  Text,Menu,Number,Symbol,Plot,Label,Word,Page,D...\n",
              "982    HighCrime  Human,Person,Costume,Clothing,Apparel,Sleeve,L...\n",
              "1812   HighCrime                         Human,Person,Text,Bus Stop\n",
              "176    HighCrime  Human,Person,Architecture,Building,Clothing,Ap...\n",
              "830    HighCrime  Human,Person,Silhouette,Photography,Photo,Phot...\n",
              "1001   HighCrime  Person,Human,Text,Newspaper,Poster,Advertiseme...\n",
              "...          ...                                                ...\n",
              "1651   HighCrime                    Face,Photography,Portrait,Photo\n",
              "517    HighCrime  Human,Person,Face,Text,Id Cards,Document,Beard...\n",
              "92     HighCrime         Face,Person,Human,People,Photo,Photography\n",
              "967    HighCrime  Human,Person,Art,Nature,Building,Painting,Elec...\n",
              "738    HighCrime  Face,Person,Human,Skin,Contact Lens,Finger,Pho...\n",
              "323    HighCrime  Car,Automobile,Transportation,Vehicle,Person,H...\n",
              "1589   HighCrime  Person,Human,Car,Vehicle,Transportation,Automo...\n",
              "1560   HighCrime  Human,Person,Building,Housing,Indoors,Sport,Wo...\n",
              "622    HighCrime  Apparel,Footwear,Clothing,Shoe,Human,Person,He...\n",
              "1092   HighCrime  Human,Person,Word,Screen,Electronics,Display,M...\n",
              "749    HighCrime  Person,Human,Electronics,Screen,Monitor,Displa...\n",
              "160    HighCrime  Person,Human,Car,Transportation,Vehicle,Automo...\n",
              "1815   HighCrime  Human,Person,Sport,Working Out,Exercise,Sports...\n",
              "1813   HighCrime  Person,Human,Transportation,Vehicle,Military,M...\n",
              "531    HighCrime  Person,Human,Footwear,Shoe,Apparel,Clothing,Cr...\n",
              "1194   HighCrime  Transportation,Car,Automobile,Vehicle,Human,Pe...\n",
              "603    HighCrime  Human,Person,Electronics,Workshop,Crowd,Indoor...\n",
              "1586   HighCrime  Chair,Furniture,Human,Person,Sitting,Apparel,S...\n",
              "746    HighCrime  Person,Human,Automobile,Car,Transportation,Veh...\n",
              "1821   HighCrime  Apparel,Clothing,Human,Person,Helmet,Transport...\n",
              "1791   HighCrime  Human,Person,Transportation,Car,Vehicle,Automo...\n",
              "734    HighCrime  Human,Person,Police,Clothing,Apparel,Advertise...\n",
              "1681   HighCrime  Person,Human,Clothing,Apparel,Electronics,Coat...\n",
              "1454   HighCrime  Cushion,Human,Person,Car,Transportation,Vehicl...\n",
              "1751   HighCrime  Text,Poster,Advertisement,Flyer,Brochure,Paper...\n",
              "814    HighCrime  Clothing,Apparel,Person,Human,Sweater,Cardigan...\n",
              "178    HighCrime  Person,Human,Apparel,Clothing,Skin,Flooring,Pa...\n",
              "1176   HighCrime  Text,Page,Human,Person,Newspaper,Document,Adve...\n",
              "1115   HighCrime  Electronics,Monitor,Screen,Display,Person,Huma...\n",
              "1487   HighCrime  Human,Person,Face,Chair,Furniture,Kid,Child,Pe...\n",
              "\n",
              "[67 rows x 2 columns]"
            ]
          },
          "metadata": {
            "tags": []
          }
        },
        {
          "output_type": "stream",
          "text": [
            "\n",
            "'LowCrime' predicted as 'NoCrime' : 42 examples.\n"
          ],
          "name": "stdout"
        },
        {
          "output_type": "display_data",
          "data": {
            "text/html": [
              "<div>\n",
              "<style scoped>\n",
              "    .dataframe tbody tr th:only-of-type {\n",
              "        vertical-align: middle;\n",
              "    }\n",
              "\n",
              "    .dataframe tbody tr th {\n",
              "        vertical-align: top;\n",
              "    }\n",
              "\n",
              "    .dataframe thead th {\n",
              "        text-align: right;\n",
              "    }\n",
              "</style>\n",
              "<table border=\"1\" class=\"dataframe\">\n",
              "  <thead>\n",
              "    <tr style=\"text-align: right;\">\n",
              "      <th></th>\n",
              "      <th>tags_string</th>\n",
              "      <th>object_labels</th>\n",
              "    </tr>\n",
              "  </thead>\n",
              "  <tbody>\n",
              "    <tr>\n",
              "      <th>295</th>\n",
              "      <td>LowCrime</td>\n",
              "      <td>Pants,Clothing,Apparel,Human,Person,Denim,Jean...</td>\n",
              "    </tr>\n",
              "    <tr>\n",
              "      <th>530</th>\n",
              "      <td>LowCrime</td>\n",
              "      <td>Balloon,Ball</td>\n",
              "    </tr>\n",
              "    <tr>\n",
              "      <th>598</th>\n",
              "      <td>LowCrime</td>\n",
              "      <td>Vehicle,Transportation,Automobile,Car,Nature,M...</td>\n",
              "    </tr>\n",
              "    <tr>\n",
              "      <th>80</th>\n",
              "      <td>LowCrime</td>\n",
              "      <td>Human,Person,Luggage,Suitcase,Indoors,Room,Court</td>\n",
              "    </tr>\n",
              "    <tr>\n",
              "      <th>1171</th>\n",
              "      <td>LowCrime</td>\n",
              "      <td>Road,Lighting,Town,Building,City,Street,Urban,...</td>\n",
              "    </tr>\n",
              "    <tr>\n",
              "      <th>391</th>\n",
              "      <td>LowCrime</td>\n",
              "      <td>Human,Person,Gas Pump,Machine,Pump,Costume,Clo...</td>\n",
              "    </tr>\n",
              "    <tr>\n",
              "      <th>1739</th>\n",
              "      <td>LowCrime</td>\n",
              "      <td>Person,Human,Pedestrian,Architecture,Clock Tow...</td>\n",
              "    </tr>\n",
              "    <tr>\n",
              "      <th>1432</th>\n",
              "      <td>LowCrime</td>\n",
              "      <td>Urban,Town,City,Building,High Rise,Flag,Symbol...</td>\n",
              "    </tr>\n",
              "    <tr>\n",
              "      <th>1357</th>\n",
              "      <td>LowCrime</td>\n",
              "      <td>Person,Human,Crowd,Press Conference,People</td>\n",
              "    </tr>\n",
              "    <tr>\n",
              "      <th>1516</th>\n",
              "      <td>LowCrime</td>\n",
              "      <td>Person,Human,Fire,Nature,Flame,Bonfire,People,...</td>\n",
              "    </tr>\n",
              "    <tr>\n",
              "      <th>1019</th>\n",
              "      <td>LowCrime</td>\n",
              "      <td>Fire,Forest Fire,Art,Painting,Bonfire,Flame,Pe...</td>\n",
              "    </tr>\n",
              "    <tr>\n",
              "      <th>652</th>\n",
              "      <td>LowCrime</td>\n",
              "      <td>Nature,Landscape,Outdoors,Scenery,Road,Tarmac,...</td>\n",
              "    </tr>\n",
              "    <tr>\n",
              "      <th>1368</th>\n",
              "      <td>LowCrime</td>\n",
              "      <td>Person,Human,Clinic,Forge,Building,Workshop</td>\n",
              "    </tr>\n",
              "    <tr>\n",
              "      <th>668</th>\n",
              "      <td>LowCrime</td>\n",
              "      <td>Human,Person,Nature,Demolition,Urban,Building,...</td>\n",
              "    </tr>\n",
              "    <tr>\n",
              "      <th>1623</th>\n",
              "      <td>LowCrime</td>\n",
              "      <td>Human,Person,Clothing,Apparel,Advertisement,Po...</td>\n",
              "    </tr>\n",
              "    <tr>\n",
              "      <th>386</th>\n",
              "      <td>LowCrime</td>\n",
              "      <td>Person,Human,Machine,Shooting Range</td>\n",
              "    </tr>\n",
              "    <tr>\n",
              "      <th>963</th>\n",
              "      <td>LowCrime</td>\n",
              "      <td>Apparel,Clothing,Human,Person,Hat,Face,Outdoor...</td>\n",
              "    </tr>\n",
              "    <tr>\n",
              "      <th>1311</th>\n",
              "      <td>LowCrime</td>\n",
              "      <td>Person,Human,Machine,Vending Machine</td>\n",
              "    </tr>\n",
              "    <tr>\n",
              "      <th>1776</th>\n",
              "      <td>LowCrime</td>\n",
              "      <td>Transportation,Truck,Vehicle,Machine,Wheel,Tir...</td>\n",
              "    </tr>\n",
              "    <tr>\n",
              "      <th>34</th>\n",
              "      <td>LowCrime</td>\n",
              "      <td>Human,Person,Clothing,Apparel,Face,Sleeve,Head...</td>\n",
              "    </tr>\n",
              "    <tr>\n",
              "      <th>403</th>\n",
              "      <td>LowCrime</td>\n",
              "      <td>Human,Person,Truck,Vehicle,Transportation,Natu...</td>\n",
              "    </tr>\n",
              "    <tr>\n",
              "      <th>1032</th>\n",
              "      <td>LowCrime</td>\n",
              "      <td>Transportation,Car,Vehicle,Automobile,Nature,R...</td>\n",
              "    </tr>\n",
              "    <tr>\n",
              "      <th>1613</th>\n",
              "      <td>LowCrime</td>\n",
              "      <td>Vehicle,Transportation,Automobile,Car,Tire,Mac...</td>\n",
              "    </tr>\n",
              "    <tr>\n",
              "      <th>1845</th>\n",
              "      <td>LowCrime</td>\n",
              "      <td>Path,Person,Human,Walkway,Sidewalk,Pavement,Br...</td>\n",
              "    </tr>\n",
              "    <tr>\n",
              "      <th>978</th>\n",
              "      <td>LowCrime</td>\n",
              "      <td>Human,Person,Fire,Bonfire,Flame,Fireman,Forest...</td>\n",
              "    </tr>\n",
              "    <tr>\n",
              "      <th>1133</th>\n",
              "      <td>LowCrime</td>\n",
              "      <td>Person,Human,Wood,Nature,Earthquake,Plywood,Ou...</td>\n",
              "    </tr>\n",
              "    <tr>\n",
              "      <th>343</th>\n",
              "      <td>LowCrime</td>\n",
              "      <td>Nature,Earthquake,Person,Human,Tent,Rubble,Urb...</td>\n",
              "    </tr>\n",
              "    <tr>\n",
              "      <th>1022</th>\n",
              "      <td>LowCrime</td>\n",
              "      <td>Apparel,Clothing,Person,Human,Face,Hat,Hood,Bo...</td>\n",
              "    </tr>\n",
              "    <tr>\n",
              "      <th>1901</th>\n",
              "      <td>LowCrime</td>\n",
              "      <td>Human,Person,Military,Military Uniform,People,...</td>\n",
              "    </tr>\n",
              "    <tr>\n",
              "      <th>1664</th>\n",
              "      <td>LowCrime</td>\n",
              "      <td>Human,Person,Window,Door,Clothing,Apparel</td>\n",
              "    </tr>\n",
              "    <tr>\n",
              "      <th>914</th>\n",
              "      <td>LowCrime</td>\n",
              "      <td>Clothing,Apparel,Human,Person,Face,Accessories...</td>\n",
              "    </tr>\n",
              "    <tr>\n",
              "      <th>1037</th>\n",
              "      <td>LowCrime</td>\n",
              "      <td>Apparel,Clothing,Human,Person,Helmet,People,Tr...</td>\n",
              "    </tr>\n",
              "    <tr>\n",
              "      <th>1934</th>\n",
              "      <td>LowCrime</td>\n",
              "      <td>Human,Person,Electronics,Screen,Display,Monito...</td>\n",
              "    </tr>\n",
              "    <tr>\n",
              "      <th>988</th>\n",
              "      <td>LowCrime</td>\n",
              "      <td>Computer,Pc,Electronics,Screen,Display,Monitor...</td>\n",
              "    </tr>\n",
              "    <tr>\n",
              "      <th>252</th>\n",
              "      <td>LowCrime</td>\n",
              "      <td>Workshop,Person,Human,Machine,Clothing,Apparel...</td>\n",
              "    </tr>\n",
              "    <tr>\n",
              "      <th>554</th>\n",
              "      <td>LowCrime</td>\n",
              "      <td>Person,Human,Furniture,Chair,Electronics,Scree...</td>\n",
              "    </tr>\n",
              "    <tr>\n",
              "      <th>1302</th>\n",
              "      <td>LowCrime</td>\n",
              "      <td>Car,Vehicle,Transportation,Automobile,Lighting...</td>\n",
              "    </tr>\n",
              "    <tr>\n",
              "      <th>348</th>\n",
              "      <td>LowCrime</td>\n",
              "      <td>Human,Person,Car,Vehicle,Transportation,Automo...</td>\n",
              "    </tr>\n",
              "    <tr>\n",
              "      <th>761</th>\n",
              "      <td>LowCrime</td>\n",
              "      <td>Human,Person,Building,Housing,Furniture,Indoor...</td>\n",
              "    </tr>\n",
              "    <tr>\n",
              "      <th>770</th>\n",
              "      <td>LowCrime</td>\n",
              "      <td>Person,Human,Electronics,Display,Monitor,Scree...</td>\n",
              "    </tr>\n",
              "    <tr>\n",
              "      <th>802</th>\n",
              "      <td>LowCrime</td>\n",
              "      <td>Apparel,Clothing,Human,Person,Doctor,Animal,Ma...</td>\n",
              "    </tr>\n",
              "    <tr>\n",
              "      <th>1276</th>\n",
              "      <td>LowCrime</td>\n",
              "      <td>Person,Human,Door,Shooting Range</td>\n",
              "    </tr>\n",
              "  </tbody>\n",
              "</table>\n",
              "</div>"
            ],
            "text/plain": [
              "     tags_string                                      object_labels\n",
              "295     LowCrime  Pants,Clothing,Apparel,Human,Person,Denim,Jean...\n",
              "530     LowCrime                                       Balloon,Ball\n",
              "598     LowCrime  Vehicle,Transportation,Automobile,Car,Nature,M...\n",
              "80      LowCrime   Human,Person,Luggage,Suitcase,Indoors,Room,Court\n",
              "1171    LowCrime  Road,Lighting,Town,Building,City,Street,Urban,...\n",
              "391     LowCrime  Human,Person,Gas Pump,Machine,Pump,Costume,Clo...\n",
              "1739    LowCrime  Person,Human,Pedestrian,Architecture,Clock Tow...\n",
              "1432    LowCrime  Urban,Town,City,Building,High Rise,Flag,Symbol...\n",
              "1357    LowCrime         Person,Human,Crowd,Press Conference,People\n",
              "1516    LowCrime  Person,Human,Fire,Nature,Flame,Bonfire,People,...\n",
              "1019    LowCrime  Fire,Forest Fire,Art,Painting,Bonfire,Flame,Pe...\n",
              "652     LowCrime  Nature,Landscape,Outdoors,Scenery,Road,Tarmac,...\n",
              "1368    LowCrime        Person,Human,Clinic,Forge,Building,Workshop\n",
              "668     LowCrime  Human,Person,Nature,Demolition,Urban,Building,...\n",
              "1623    LowCrime  Human,Person,Clothing,Apparel,Advertisement,Po...\n",
              "386     LowCrime                Person,Human,Machine,Shooting Range\n",
              "963     LowCrime  Apparel,Clothing,Human,Person,Hat,Face,Outdoor...\n",
              "1311    LowCrime               Person,Human,Machine,Vending Machine\n",
              "1776    LowCrime  Transportation,Truck,Vehicle,Machine,Wheel,Tir...\n",
              "34      LowCrime  Human,Person,Clothing,Apparel,Face,Sleeve,Head...\n",
              "403     LowCrime  Human,Person,Truck,Vehicle,Transportation,Natu...\n",
              "1032    LowCrime  Transportation,Car,Vehicle,Automobile,Nature,R...\n",
              "1613    LowCrime  Vehicle,Transportation,Automobile,Car,Tire,Mac...\n",
              "1845    LowCrime  Path,Person,Human,Walkway,Sidewalk,Pavement,Br...\n",
              "978     LowCrime  Human,Person,Fire,Bonfire,Flame,Fireman,Forest...\n",
              "1133    LowCrime  Person,Human,Wood,Nature,Earthquake,Plywood,Ou...\n",
              "343     LowCrime  Nature,Earthquake,Person,Human,Tent,Rubble,Urb...\n",
              "1022    LowCrime  Apparel,Clothing,Person,Human,Face,Hat,Hood,Bo...\n",
              "1901    LowCrime  Human,Person,Military,Military Uniform,People,...\n",
              "1664    LowCrime          Human,Person,Window,Door,Clothing,Apparel\n",
              "914     LowCrime  Clothing,Apparel,Human,Person,Face,Accessories...\n",
              "1037    LowCrime  Apparel,Clothing,Human,Person,Helmet,People,Tr...\n",
              "1934    LowCrime  Human,Person,Electronics,Screen,Display,Monito...\n",
              "988     LowCrime  Computer,Pc,Electronics,Screen,Display,Monitor...\n",
              "252     LowCrime  Workshop,Person,Human,Machine,Clothing,Apparel...\n",
              "554     LowCrime  Person,Human,Furniture,Chair,Electronics,Scree...\n",
              "1302    LowCrime  Car,Vehicle,Transportation,Automobile,Lighting...\n",
              "348     LowCrime  Human,Person,Car,Vehicle,Transportation,Automo...\n",
              "761     LowCrime  Human,Person,Building,Housing,Furniture,Indoor...\n",
              "770     LowCrime  Person,Human,Electronics,Display,Monitor,Scree...\n",
              "802     LowCrime  Apparel,Clothing,Human,Person,Doctor,Animal,Ma...\n",
              "1276    LowCrime                   Person,Human,Door,Shooting Range"
            ]
          },
          "metadata": {
            "tags": []
          }
        },
        {
          "output_type": "stream",
          "text": [
            "\n"
          ],
          "name": "stdout"
        }
      ]
    },
    {
      "cell_type": "markdown",
      "metadata": {
        "id": "wRQQSe9vqTQ2",
        "colab_type": "text"
      },
      "source": [
        "### Classification report"
      ]
    },
    {
      "cell_type": "code",
      "metadata": {
        "id": "PtBzDPM1m9Gm",
        "colab_type": "code",
        "outputId": "a819463b-f80b-44ec-becd-89bc8a54f00c",
        "colab": {
          "base_uri": "https://localhost:8080/",
          "height": 203
        }
      },
      "source": [
        "from sklearn import metrics\n",
        "print(metrics.classification_report(y_test, y_pred, target_names=df['tags_string'].unique()))"
      ],
      "execution_count": 0,
      "outputs": [
        {
          "output_type": "stream",
          "text": [
            "              precision    recall  f1-score   support\n",
            "\n",
            "   HighCrime       0.56      0.31      0.40       101\n",
            "     NoCrime       0.75      0.96      0.84       335\n",
            "    LowCrime       0.29      0.04      0.06        57\n",
            "\n",
            "    accuracy                           0.72       493\n",
            "   macro avg       0.53      0.43      0.43       493\n",
            "weighted avg       0.66      0.72      0.66       493\n",
            "\n"
          ],
          "name": "stdout"
        }
      ]
    },
    {
      "cell_type": "markdown",
      "metadata": {
        "id": "VLuQnarVtWxG",
        "colab_type": "text"
      },
      "source": [
        "## Prediction"
      ]
    },
    {
      "cell_type": "code",
      "metadata": {
        "id": "VN3WS5P7tGl8",
        "colab_type": "code",
        "outputId": "fab68bec-4b5d-4420-cd11-8cda351ebf79",
        "colab": {
          "base_uri": "https://localhost:8080/",
          "height": 36
        }
      },
      "source": [
        "print(lr.predict(count_vect.transform([\"Person,Weapon,Gun,Advertisement,Poster,Brochure,Flyer,Paper,Clothing,Apparel,Text,Computer,Electronics,Hardware,Mouse,Outdoors\"])))"
      ],
      "execution_count": 0,
      "outputs": [
        {
          "output_type": "stream",
          "text": [
            "['HighCrime']\n"
          ],
          "name": "stdout"
        }
      ]
    },
    {
      "cell_type": "markdown",
      "metadata": {
        "id": "eM2WT1vVuN-q",
        "colab_type": "text"
      },
      "source": [
        "To get probability in the order ```{'HighCrime, 'LowCrime', 'NoCrime': 2}```"
      ]
    },
    {
      "cell_type": "code",
      "metadata": {
        "id": "Cv1Es0p6uLO3",
        "colab_type": "code",
        "outputId": "6c657813-4609-4c3d-8f37-ec23acfdce7f",
        "colab": {
          "base_uri": "https://localhost:8080/",
          "height": 36
        }
      },
      "source": [
        "print(clf.predict_proba(count_vect.transform([\"Person,Weapon,Gun,Advertisement,Poster,Brochure,Flyer,Paper,Clothing,Apparel,Text,Computer,Electronics,Hardware,Mouse,Outdoors\"])))"
      ],
      "execution_count": 0,
      "outputs": [
        {
          "output_type": "stream",
          "text": [
            "[[9.18329817e-01 5.97963344e-05 8.16103869e-02]]\n"
          ],
          "name": "stdout"
        }
      ]
    },
    {
      "cell_type": "markdown",
      "metadata": {
        "id": "Ak4DMzCOwTeB",
        "colab_type": "text"
      },
      "source": [
        "## Save model"
      ]
    },
    {
      "cell_type": "code",
      "metadata": {
        "id": "_kjWpEBuwtSp",
        "colab_type": "code",
        "outputId": "de652db1-585c-4d88-be58-07f9a310e6ff",
        "colab": {
          "base_uri": "https://localhost:8080/",
          "height": 36
        }
      },
      "source": [
        "import pickle \n",
        "# Save the trained model as a pickle string. \n",
        "with open('model.pickle', 'wb') as handle:\n",
        "    pickle.dump(clf, handle)\n",
        "\n",
        "# Load the pickled model \n",
        "with open('model.pickle', 'rb') as saved_model:\n",
        "    clf_from_pickle = pickle.load(saved_model)\n",
        "  \n",
        "# Use the loaded pickled model to make predictions \n",
        "clf_from_pickle.predict(count_vect.transform([\"Person,Weapon,Gun,Advertisement,Poster,Brochure,Flyer,Paper,Clothing,Apparel,Text,Computer,Electronics,Hardware,Mouse,Outdoors\"])) \n",
        "\n"
      ],
      "execution_count": 0,
      "outputs": [
        {
          "output_type": "execute_result",
          "data": {
            "text/plain": [
              "array(['HighCrime'], dtype='<U9')"
            ]
          },
          "metadata": {
            "tags": []
          },
          "execution_count": 135
        }
      ]
    }
  ]
}